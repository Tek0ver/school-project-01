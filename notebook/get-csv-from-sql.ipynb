{
 "cells": [
  {
   "cell_type": "code",
   "execution_count": 7,
   "id": "1218e4b9",
   "metadata": {},
   "outputs": [],
   "source": [
    "import psycopg2\n",
    "import pandas as pd\n",
    "from os import environ"
   ]
  },
  {
   "cell_type": "code",
   "execution_count": 8,
   "id": "c8485f2d",
   "metadata": {},
   "outputs": [],
   "source": [
    "database_name = \"main\"\n",
    "azure_conn_admin = f\"host=vinci-db.postgres.database.azure.com port=5432 dbname=postgres user=postgres password={environ['POSTGRES_PASSWORD']} sslmode=require\"\n",
    "azure_conn_user = f\"host=vinci-db.postgres.database.azure.com port=5432 dbname={database_name} user=postgres password={environ['POSTGRES_PASSWORD']} sslmode=require\""
   ]
  },
  {
   "cell_type": "code",
   "execution_count": 9,
   "id": "30d8dc55",
   "metadata": {},
   "outputs": [],
   "source": [
    "conn = psycopg2.connect(azure_conn_user)"
   ]
  },
  {
   "cell_type": "code",
   "execution_count": 11,
   "id": "3f86e1be",
   "metadata": {},
   "outputs": [],
   "source": [
    "cursor = conn.cursor()"
   ]
  },
  {
   "cell_type": "code",
   "execution_count": 12,
   "id": "6fdc4ce6",
   "metadata": {},
   "outputs": [],
   "source": [
    "min_date = '2021-06-01'"
   ]
  },
  {
   "cell_type": "code",
   "execution_count": 14,
   "id": "8cc8160e",
   "metadata": {},
   "outputs": [],
   "source": [
    "query_articles = f\"\"\"\n",
    "    SELECT * FROM articles\n",
    "    WHERE article_date > '{min_date}'\n",
    "    ;\n",
    "    \"\"\""
   ]
  },
  {
   "cell_type": "code",
   "execution_count": 16,
   "id": "4e468dea",
   "metadata": {},
   "outputs": [],
   "source": [
    "cursor.execute(query_articles)\n",
    "data = cursor.fetchall()\n",
    "column_names = [desc[0] for desc in cursor.description]\n",
    "dataframe = pd.DataFrame(data, columns=column_names)"
   ]
  },
  {
   "cell_type": "code",
   "execution_count": 17,
   "id": "8071eb30",
   "metadata": {},
   "outputs": [
    {
     "data": {
      "text/html": [
       "<div>\n",
       "<style scoped>\n",
       "    .dataframe tbody tr th:only-of-type {\n",
       "        vertical-align: middle;\n",
       "    }\n",
       "\n",
       "    .dataframe tbody tr th {\n",
       "        vertical-align: top;\n",
       "    }\n",
       "\n",
       "    .dataframe thead th {\n",
       "        text-align: right;\n",
       "    }\n",
       "</style>\n",
       "<table border=\"1\" class=\"dataframe\">\n",
       "  <thead>\n",
       "    <tr style=\"text-align: right;\">\n",
       "      <th></th>\n",
       "      <th>id</th>\n",
       "      <th>journal</th>\n",
       "      <th>title</th>\n",
       "      <th>article_date</th>\n",
       "      <th>link</th>\n",
       "    </tr>\n",
       "  </thead>\n",
       "  <tbody>\n",
       "    <tr>\n",
       "      <th>0</th>\n",
       "      <td>2</td>\n",
       "      <td>le monde</td>\n",
       "      <td>Guerre en Ukraine, en direct : Volodymyr Zelen...</td>\n",
       "      <td>2022-03-08 13:38:00</td>\n",
       "      <td>https://www.lemonde.fr/international/live/2022...</td>\n",
       "    </tr>\n",
       "    <tr>\n",
       "      <th>1</th>\n",
       "      <td>3</td>\n",
       "      <td>le monde</td>\n",
       "      <td>Guerre en Ukraine, en direct : l’armée russe d...</td>\n",
       "      <td>2022-03-02 18:19:00</td>\n",
       "      <td>https://www.lemonde.fr/international/live/2022...</td>\n",
       "    </tr>\n",
       "    <tr>\n",
       "      <th>2</th>\n",
       "      <td>4</td>\n",
       "      <td>le monde</td>\n",
       "      <td>Guerre en Ukraine, en direct : l’ambassade des...</td>\n",
       "      <td>2022-05-18 20:57:00</td>\n",
       "      <td>https://www.lemonde.fr/international/live/2022...</td>\n",
       "    </tr>\n",
       "    <tr>\n",
       "      <th>3</th>\n",
       "      <td>5</td>\n",
       "      <td>le monde</td>\n",
       "      <td>Guerre en Ukraine, en direct : soixante morts ...</td>\n",
       "      <td>2022-05-08 22:09:00</td>\n",
       "      <td>https://www.lemonde.fr/international/live/2022...</td>\n",
       "    </tr>\n",
       "    <tr>\n",
       "      <th>4</th>\n",
       "      <td>6</td>\n",
       "      <td>le monde</td>\n",
       "      <td>Guerre en Ukraine en direct : Kiev annonce une...</td>\n",
       "      <td>2022-05-06 06:17:00</td>\n",
       "      <td>https://www.lemonde.fr/international/live/2022...</td>\n",
       "    </tr>\n",
       "    <tr>\n",
       "      <th>...</th>\n",
       "      <td>...</td>\n",
       "      <td>...</td>\n",
       "      <td>...</td>\n",
       "      <td>...</td>\n",
       "      <td>...</td>\n",
       "    </tr>\n",
       "    <tr>\n",
       "      <th>13317</th>\n",
       "      <td>13613</td>\n",
       "      <td>liberation</td>\n",
       "      <td>PMA : l’interminable attente des femmes noires</td>\n",
       "      <td>2021-06-07 00:00:00</td>\n",
       "      <td>https://www.liberation.fr/societe/droits-des-f...</td>\n",
       "    </tr>\n",
       "    <tr>\n",
       "      <th>13318</th>\n",
       "      <td>13614</td>\n",
       "      <td>liberation</td>\n",
       "      <td>Au Bélarus, la «confession» du prisonnier Roma...</td>\n",
       "      <td>2021-06-04 00:00:00</td>\n",
       "      <td>https://www.liberation.fr/international/europe...</td>\n",
       "    </tr>\n",
       "    <tr>\n",
       "      <th>13319</th>\n",
       "      <td>13615</td>\n",
       "      <td>liberation</td>\n",
       "      <td>En Occitanie, le RN investi (par) les identita...</td>\n",
       "      <td>2021-06-03 00:00:00</td>\n",
       "      <td>https://www.liberation.fr/politique/elections/...</td>\n",
       "    </tr>\n",
       "    <tr>\n",
       "      <th>13320</th>\n",
       "      <td>13616</td>\n",
       "      <td>liberation</td>\n",
       "      <td>Le journaliste et opposant bélarusse Roman Pro...</td>\n",
       "      <td>2021-06-02 00:00:00</td>\n",
       "      <td>https://www.liberation.fr/checknews/le-journal...</td>\n",
       "    </tr>\n",
       "    <tr>\n",
       "      <th>13321</th>\n",
       "      <td>13617</td>\n",
       "      <td>liberation</td>\n",
       "      <td>«Пломбир», la glace russe venue de France</td>\n",
       "      <td>2021-06-02 00:00:00</td>\n",
       "      <td>https://www.liberation.fr/international/europe...</td>\n",
       "    </tr>\n",
       "  </tbody>\n",
       "</table>\n",
       "<p>13322 rows × 5 columns</p>\n",
       "</div>"
      ],
      "text/plain": [
       "          id     journal                                              title  \\\n",
       "0          2    le monde  Guerre en Ukraine, en direct : Volodymyr Zelen...   \n",
       "1          3    le monde  Guerre en Ukraine, en direct : l’armée russe d...   \n",
       "2          4    le monde  Guerre en Ukraine, en direct : l’ambassade des...   \n",
       "3          5    le monde  Guerre en Ukraine, en direct : soixante morts ...   \n",
       "4          6    le monde  Guerre en Ukraine en direct : Kiev annonce une...   \n",
       "...      ...         ...                                                ...   \n",
       "13317  13613  liberation     PMA : l’interminable attente des femmes noires   \n",
       "13318  13614  liberation  Au Bélarus, la «confession» du prisonnier Roma...   \n",
       "13319  13615  liberation  En Occitanie, le RN investi (par) les identita...   \n",
       "13320  13616  liberation  Le journaliste et opposant bélarusse Roman Pro...   \n",
       "13321  13617  liberation          «Пломбир», la glace russe venue de France   \n",
       "\n",
       "             article_date                                               link  \n",
       "0     2022-03-08 13:38:00  https://www.lemonde.fr/international/live/2022...  \n",
       "1     2022-03-02 18:19:00  https://www.lemonde.fr/international/live/2022...  \n",
       "2     2022-05-18 20:57:00  https://www.lemonde.fr/international/live/2022...  \n",
       "3     2022-05-08 22:09:00  https://www.lemonde.fr/international/live/2022...  \n",
       "4     2022-05-06 06:17:00  https://www.lemonde.fr/international/live/2022...  \n",
       "...                   ...                                                ...  \n",
       "13317 2021-06-07 00:00:00  https://www.liberation.fr/societe/droits-des-f...  \n",
       "13318 2021-06-04 00:00:00  https://www.liberation.fr/international/europe...  \n",
       "13319 2021-06-03 00:00:00  https://www.liberation.fr/politique/elections/...  \n",
       "13320 2021-06-02 00:00:00  https://www.liberation.fr/checknews/le-journal...  \n",
       "13321 2021-06-02 00:00:00  https://www.liberation.fr/international/europe...  \n",
       "\n",
       "[13322 rows x 5 columns]"
      ]
     },
     "execution_count": 17,
     "metadata": {},
     "output_type": "execute_result"
    }
   ],
   "source": [
    "dataframe"
   ]
  },
  {
   "cell_type": "code",
   "execution_count": 18,
   "id": "468fdaae",
   "metadata": {},
   "outputs": [],
   "source": [
    "dataframe.to_csv('articles.csv', index=False)"
   ]
  },
  {
   "cell_type": "code",
   "execution_count": null,
   "id": "74632687",
   "metadata": {},
   "outputs": [],
   "source": []
  }
 ],
 "metadata": {
  "kernelspec": {
   "display_name": "Python 3 (ipykernel)",
   "language": "python",
   "name": "python3"
  },
  "language_info": {
   "codemirror_mode": {
    "name": "ipython",
    "version": 3
   },
   "file_extension": ".py",
   "mimetype": "text/x-python",
   "name": "python",
   "nbconvert_exporter": "python",
   "pygments_lexer": "ipython3",
   "version": "3.10.9"
  },
  "toc": {
   "base_numbering": 1,
   "nav_menu": {},
   "number_sections": true,
   "sideBar": true,
   "skip_h1_title": false,
   "title_cell": "Table of Contents",
   "title_sidebar": "Contents",
   "toc_cell": false,
   "toc_position": {},
   "toc_section_display": true,
   "toc_window_display": false
  }
 },
 "nbformat": 4,
 "nbformat_minor": 5
}
