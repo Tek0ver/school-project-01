{
 "cells": [
  {
   "cell_type": "code",
   "execution_count": 25,
   "id": "c7c5f889",
   "metadata": {},
   "outputs": [],
   "source": [
    "import pandas as pd\n",
    "import matplotlib.pyplot as plt\n",
    "from datetime import datetime"
   ]
  },
  {
   "cell_type": "code",
   "execution_count": 2,
   "id": "b07b8316",
   "metadata": {},
   "outputs": [],
   "source": [
    "data = pd.read_csv('../data/le_monde.csv')"
   ]
  },
  {
   "cell_type": "code",
   "execution_count": 3,
   "id": "d0ce93f2",
   "metadata": {},
   "outputs": [
    {
     "data": {
      "text/html": [
       "<div>\n",
       "<style scoped>\n",
       "    .dataframe tbody tr th:only-of-type {\n",
       "        vertical-align: middle;\n",
       "    }\n",
       "\n",
       "    .dataframe tbody tr th {\n",
       "        vertical-align: top;\n",
       "    }\n",
       "\n",
       "    .dataframe thead th {\n",
       "        text-align: right;\n",
       "    }\n",
       "</style>\n",
       "<table border=\"1\" class=\"dataframe\">\n",
       "  <thead>\n",
       "    <tr style=\"text-align: right;\">\n",
       "      <th></th>\n",
       "      <th>title</th>\n",
       "      <th>date</th>\n",
       "    </tr>\n",
       "  </thead>\n",
       "  <tbody>\n",
       "    <tr>\n",
       "      <th>0</th>\n",
       "      <td>Guerre en Ukraine, en direct : incertitude sur...</td>\n",
       "      <td>NaN</td>\n",
       "    </tr>\n",
       "    <tr>\n",
       "      <th>1</th>\n",
       "      <td>« De guerre en guerre. De 1940 à l’Ukraine » :...</td>\n",
       "      <td>2023-01-12 20:00:00</td>\n",
       "    </tr>\n",
       "    <tr>\n",
       "      <th>2</th>\n",
       "      <td>L’Afrique subit toujours l’impact de la guerre...</td>\n",
       "      <td>NaN</td>\n",
       "    </tr>\n",
       "    <tr>\n",
       "      <th>3</th>\n",
       "      <td>Guerre en Ukraine : cinq réfugiés russes coinc...</td>\n",
       "      <td>NaN</td>\n",
       "    </tr>\n",
       "    <tr>\n",
       "      <th>4</th>\n",
       "      <td>Dans l’Arctique, la guerre en Ukraine rebat le...</td>\n",
       "      <td>NaN</td>\n",
       "    </tr>\n",
       "    <tr>\n",
       "      <th>5</th>\n",
       "      <td>Human Rights Watch se félicite de la mobilisat...</td>\n",
       "      <td>2023-01-12 06:30:00</td>\n",
       "    </tr>\n",
       "    <tr>\n",
       "      <th>6</th>\n",
       "      <td>Guerre en Ukraine, en direct : Volodymyr Zelen...</td>\n",
       "      <td>2023-01-12 19:14:00</td>\n",
       "    </tr>\n",
       "    <tr>\n",
       "      <th>7</th>\n",
       "      <td>Guerre en Ukraine : Kiev et ses alliés redoute...</td>\n",
       "      <td>2023-01-12 05:20:00</td>\n",
       "    </tr>\n",
       "    <tr>\n",
       "      <th>8</th>\n",
       "      <td>Valéri Guerassimov, chef d’état-major de l’arm...</td>\n",
       "      <td>2023-01-12 11:08:00</td>\n",
       "    </tr>\n",
       "    <tr>\n",
       "      <th>9</th>\n",
       "      <td>Guerre en Ukraine : comprendre la bataille de ...</td>\n",
       "      <td>NaN</td>\n",
       "    </tr>\n",
       "    <tr>\n",
       "      <th>10</th>\n",
       "      <td>Guerre en Ukraine : les combats actuels près d...</td>\n",
       "      <td>2023-01-12 06:06:00</td>\n",
       "    </tr>\n",
       "    <tr>\n",
       "      <th>11</th>\n",
       "      <td>Guerre en Ukraine en direct : le Groupe Wagner...</td>\n",
       "      <td>2023-01-11 06:20:00</td>\n",
       "    </tr>\n",
       "    <tr>\n",
       "      <th>12</th>\n",
       "      <td>Guerre en Ukraine : les Ukrainiens toujours au...</td>\n",
       "      <td>NaN</td>\n",
       "    </tr>\n",
       "    <tr>\n",
       "      <th>13</th>\n",
       "      <td>Guerre en Ukraine : « C’est la bataille de Ver...</td>\n",
       "      <td>NaN</td>\n",
       "    </tr>\n",
       "    <tr>\n",
       "      <th>14</th>\n",
       "      <td>Guerre en Ukraine : la Russie ne contrôle plus...</td>\n",
       "      <td>2023-01-05 18:08:00</td>\n",
       "    </tr>\n",
       "    <tr>\n",
       "      <th>15</th>\n",
       "      <td>« Le président Macron a annoncé l’envoi de cha...</td>\n",
       "      <td>2023-01-10 18:53:00</td>\n",
       "    </tr>\n",
       "    <tr>\n",
       "      <th>16</th>\n",
       "      <td>Soutenir l’Ukraine pour assurer la paix</td>\n",
       "      <td>2023-01-10 11:00:00</td>\n",
       "    </tr>\n",
       "    <tr>\n",
       "      <th>17</th>\n",
       "      <td>Guerre en Ukraine, en direct : Zelensky signal...</td>\n",
       "      <td>2023-01-09 22:31:00</td>\n",
       "    </tr>\n",
       "    <tr>\n",
       "      <th>18</th>\n",
       "      <td>Guerre en Ukraine : la Russie affirme avoir tu...</td>\n",
       "      <td>2023-01-09 04:14:00</td>\n",
       "    </tr>\n",
       "    <tr>\n",
       "      <th>19</th>\n",
       "      <td>Guerre en Ukraine : le mythe Bandera et la réa...</td>\n",
       "      <td>2023-01-08 18:00:00</td>\n",
       "    </tr>\n",
       "    <tr>\n",
       "      <th>20</th>\n",
       "      <td>Invasion de l’Ukraine en cartes : l’évolution ...</td>\n",
       "      <td>2022-05-11 10:12:00</td>\n",
       "    </tr>\n",
       "    <tr>\n",
       "      <th>21</th>\n",
       "      <td>Les cartes de la guerre en Ukraine, depuis l’i...</td>\n",
       "      <td>2022-05-24 07:46:00</td>\n",
       "    </tr>\n",
       "    <tr>\n",
       "      <th>22</th>\n",
       "      <td>Tentative d’insurrection au Brésil, trêve illu...</td>\n",
       "      <td>2023-01-08 18:26:00</td>\n",
       "    </tr>\n",
       "    <tr>\n",
       "      <th>23</th>\n",
       "      <td>La guerre a fait de l’Ukraine le plus vaste ch...</td>\n",
       "      <td>2023-01-08 12:11:00</td>\n",
       "    </tr>\n",
       "    <tr>\n",
       "      <th>24</th>\n",
       "      <td>Vidéo. Guerre en Ukraine : pourquoi la livrais...</td>\n",
       "      <td>2023-01-06 17:38:00</td>\n",
       "    </tr>\n",
       "    <tr>\n",
       "      <th>25</th>\n",
       "      <td>Guerre en Ukraine : en pleine célébration du N...</td>\n",
       "      <td>2023-01-08 06:37:00</td>\n",
       "    </tr>\n",
       "  </tbody>\n",
       "</table>\n",
       "</div>"
      ],
      "text/plain": [
       "                                                title                 date\n",
       "0   Guerre en Ukraine, en direct : incertitude sur...                  NaN\n",
       "1   « De guerre en guerre. De 1940 à l’Ukraine » :...  2023-01-12 20:00:00\n",
       "2   L’Afrique subit toujours l’impact de la guerre...                  NaN\n",
       "3   Guerre en Ukraine : cinq réfugiés russes coinc...                  NaN\n",
       "4   Dans l’Arctique, la guerre en Ukraine rebat le...                  NaN\n",
       "5   Human Rights Watch se félicite de la mobilisat...  2023-01-12 06:30:00\n",
       "6   Guerre en Ukraine, en direct : Volodymyr Zelen...  2023-01-12 19:14:00\n",
       "7   Guerre en Ukraine : Kiev et ses alliés redoute...  2023-01-12 05:20:00\n",
       "8   Valéri Guerassimov, chef d’état-major de l’arm...  2023-01-12 11:08:00\n",
       "9   Guerre en Ukraine : comprendre la bataille de ...                  NaN\n",
       "10  Guerre en Ukraine : les combats actuels près d...  2023-01-12 06:06:00\n",
       "11  Guerre en Ukraine en direct : le Groupe Wagner...  2023-01-11 06:20:00\n",
       "12  Guerre en Ukraine : les Ukrainiens toujours au...                  NaN\n",
       "13  Guerre en Ukraine : « C’est la bataille de Ver...                  NaN\n",
       "14  Guerre en Ukraine : la Russie ne contrôle plus...  2023-01-05 18:08:00\n",
       "15  « Le président Macron a annoncé l’envoi de cha...  2023-01-10 18:53:00\n",
       "16            Soutenir l’Ukraine pour assurer la paix  2023-01-10 11:00:00\n",
       "17  Guerre en Ukraine, en direct : Zelensky signal...  2023-01-09 22:31:00\n",
       "18  Guerre en Ukraine : la Russie affirme avoir tu...  2023-01-09 04:14:00\n",
       "19  Guerre en Ukraine : le mythe Bandera et la réa...  2023-01-08 18:00:00\n",
       "20  Invasion de l’Ukraine en cartes : l’évolution ...  2022-05-11 10:12:00\n",
       "21  Les cartes de la guerre en Ukraine, depuis l’i...  2022-05-24 07:46:00\n",
       "22  Tentative d’insurrection au Brésil, trêve illu...  2023-01-08 18:26:00\n",
       "23  La guerre a fait de l’Ukraine le plus vaste ch...  2023-01-08 12:11:00\n",
       "24  Vidéo. Guerre en Ukraine : pourquoi la livrais...  2023-01-06 17:38:00\n",
       "25  Guerre en Ukraine : en pleine célébration du N...  2023-01-08 06:37:00"
      ]
     },
     "execution_count": 3,
     "metadata": {},
     "output_type": "execute_result"
    }
   ],
   "source": [
    "data"
   ]
  },
  {
   "cell_type": "code",
   "execution_count": 4,
   "id": "4fadc702",
   "metadata": {},
   "outputs": [
    {
     "data": {
      "text/plain": [
       "0                     NaN\n",
       "1     2023-01-12 20:00:00\n",
       "2                     NaN\n",
       "3                     NaN\n",
       "4                     NaN\n",
       "5     2023-01-12 06:30:00\n",
       "6     2023-01-12 19:14:00\n",
       "7     2023-01-12 05:20:00\n",
       "8     2023-01-12 11:08:00\n",
       "9                     NaN\n",
       "10    2023-01-12 06:06:00\n",
       "11    2023-01-11 06:20:00\n",
       "12                    NaN\n",
       "13                    NaN\n",
       "14    2023-01-05 18:08:00\n",
       "15    2023-01-10 18:53:00\n",
       "16    2023-01-10 11:00:00\n",
       "17    2023-01-09 22:31:00\n",
       "18    2023-01-09 04:14:00\n",
       "19    2023-01-08 18:00:00\n",
       "20    2022-05-11 10:12:00\n",
       "21    2022-05-24 07:46:00\n",
       "22    2023-01-08 18:26:00\n",
       "23    2023-01-08 12:11:00\n",
       "24    2023-01-06 17:38:00\n",
       "25    2023-01-08 06:37:00\n",
       "Name: date, dtype: object"
      ]
     },
     "execution_count": 4,
     "metadata": {},
     "output_type": "execute_result"
    }
   ],
   "source": [
    "data['date']"
   ]
  },
  {
   "cell_type": "code",
   "execution_count": 5,
   "id": "904998b7",
   "metadata": {},
   "outputs": [],
   "source": [
    "data['date'] = pd.to_datetime(data['date'])"
   ]
  },
  {
   "cell_type": "code",
   "execution_count": 6,
   "id": "6802a612",
   "metadata": {},
   "outputs": [
    {
     "data": {
      "text/plain": [
       "1"
      ]
     },
     "execution_count": 6,
     "metadata": {},
     "output_type": "execute_result"
    }
   ],
   "source": [
    "data['date'][1].month"
   ]
  },
  {
   "cell_type": "code",
   "execution_count": 7,
   "id": "54d19a62",
   "metadata": {},
   "outputs": [],
   "source": [
    "data = data[data['date'].notna()]"
   ]
  },
  {
   "cell_type": "code",
   "execution_count": 8,
   "id": "f46dcf49",
   "metadata": {},
   "outputs": [
    {
     "name": "stderr",
     "output_type": "stream",
     "text": [
      "/tmp/ipykernel_66020/2671504863.py:1: SettingWithCopyWarning: \n",
      "A value is trying to be set on a copy of a slice from a DataFrame.\n",
      "Try using .loc[row_indexer,col_indexer] = value instead\n",
      "\n",
      "See the caveats in the documentation: https://pandas.pydata.org/pandas-docs/stable/user_guide/indexing.html#returning-a-view-versus-a-copy\n",
      "  data['date_short'] = data['date'].map(lambda dt: dt.strftime('%Y-%m-%d'))\n"
     ]
    }
   ],
   "source": [
    "data['date_short'] = data['date'].map(lambda dt: dt.strftime('%Y-%m-%d'))"
   ]
  },
  {
   "cell_type": "code",
   "execution_count": 9,
   "id": "1ad0c869",
   "metadata": {},
   "outputs": [
    {
     "data": {
      "text/html": [
       "<div>\n",
       "<style scoped>\n",
       "    .dataframe tbody tr th:only-of-type {\n",
       "        vertical-align: middle;\n",
       "    }\n",
       "\n",
       "    .dataframe tbody tr th {\n",
       "        vertical-align: top;\n",
       "    }\n",
       "\n",
       "    .dataframe thead th {\n",
       "        text-align: right;\n",
       "    }\n",
       "</style>\n",
       "<table border=\"1\" class=\"dataframe\">\n",
       "  <thead>\n",
       "    <tr style=\"text-align: right;\">\n",
       "      <th></th>\n",
       "      <th>date_short</th>\n",
       "      <th>count</th>\n",
       "    </tr>\n",
       "  </thead>\n",
       "  <tbody>\n",
       "    <tr>\n",
       "      <th>0</th>\n",
       "      <td>2022-05-11</td>\n",
       "      <td>1</td>\n",
       "    </tr>\n",
       "    <tr>\n",
       "      <th>1</th>\n",
       "      <td>2022-05-24</td>\n",
       "      <td>1</td>\n",
       "    </tr>\n",
       "    <tr>\n",
       "      <th>2</th>\n",
       "      <td>2023-01-05</td>\n",
       "      <td>1</td>\n",
       "    </tr>\n",
       "    <tr>\n",
       "      <th>3</th>\n",
       "      <td>2023-01-06</td>\n",
       "      <td>1</td>\n",
       "    </tr>\n",
       "    <tr>\n",
       "      <th>4</th>\n",
       "      <td>2023-01-08</td>\n",
       "      <td>4</td>\n",
       "    </tr>\n",
       "    <tr>\n",
       "      <th>5</th>\n",
       "      <td>2023-01-09</td>\n",
       "      <td>2</td>\n",
       "    </tr>\n",
       "    <tr>\n",
       "      <th>6</th>\n",
       "      <td>2023-01-10</td>\n",
       "      <td>2</td>\n",
       "    </tr>\n",
       "    <tr>\n",
       "      <th>7</th>\n",
       "      <td>2023-01-11</td>\n",
       "      <td>1</td>\n",
       "    </tr>\n",
       "    <tr>\n",
       "      <th>8</th>\n",
       "      <td>2023-01-12</td>\n",
       "      <td>6</td>\n",
       "    </tr>\n",
       "  </tbody>\n",
       "</table>\n",
       "</div>"
      ],
      "text/plain": [
       "   date_short  count\n",
       "0  2022-05-11      1\n",
       "1  2022-05-24      1\n",
       "2  2023-01-05      1\n",
       "3  2023-01-06      1\n",
       "4  2023-01-08      4\n",
       "5  2023-01-09      2\n",
       "6  2023-01-10      2\n",
       "7  2023-01-11      1\n",
       "8  2023-01-12      6"
      ]
     },
     "execution_count": 9,
     "metadata": {},
     "output_type": "execute_result"
    }
   ],
   "source": [
    "df_dates = data.groupby('date_short').size().to_frame(\"count\").reset_index()\n",
    "df_dates"
   ]
  },
  {
   "cell_type": "code",
   "execution_count": 10,
   "id": "1f2d38b8",
   "metadata": {},
   "outputs": [
    {
     "data": {
      "text/html": [
       "<div>\n",
       "<style scoped>\n",
       "    .dataframe tbody tr th:only-of-type {\n",
       "        vertical-align: middle;\n",
       "    }\n",
       "\n",
       "    .dataframe tbody tr th {\n",
       "        vertical-align: top;\n",
       "    }\n",
       "\n",
       "    .dataframe thead th {\n",
       "        text-align: right;\n",
       "    }\n",
       "</style>\n",
       "<table border=\"1\" class=\"dataframe\">\n",
       "  <thead>\n",
       "    <tr style=\"text-align: right;\">\n",
       "      <th></th>\n",
       "      <th>date_short</th>\n",
       "      <th>count</th>\n",
       "    </tr>\n",
       "  </thead>\n",
       "  <tbody>\n",
       "    <tr>\n",
       "      <th>0</th>\n",
       "      <td>2022-05-11</td>\n",
       "      <td>1</td>\n",
       "    </tr>\n",
       "    <tr>\n",
       "      <th>1</th>\n",
       "      <td>2022-05-24</td>\n",
       "      <td>1</td>\n",
       "    </tr>\n",
       "    <tr>\n",
       "      <th>2</th>\n",
       "      <td>2023-01-05</td>\n",
       "      <td>1</td>\n",
       "    </tr>\n",
       "    <tr>\n",
       "      <th>3</th>\n",
       "      <td>2023-01-06</td>\n",
       "      <td>1</td>\n",
       "    </tr>\n",
       "    <tr>\n",
       "      <th>4</th>\n",
       "      <td>2023-01-08</td>\n",
       "      <td>4</td>\n",
       "    </tr>\n",
       "    <tr>\n",
       "      <th>5</th>\n",
       "      <td>2023-01-09</td>\n",
       "      <td>2</td>\n",
       "    </tr>\n",
       "    <tr>\n",
       "      <th>6</th>\n",
       "      <td>2023-01-10</td>\n",
       "      <td>2</td>\n",
       "    </tr>\n",
       "    <tr>\n",
       "      <th>7</th>\n",
       "      <td>2023-01-11</td>\n",
       "      <td>1</td>\n",
       "    </tr>\n",
       "    <tr>\n",
       "      <th>8</th>\n",
       "      <td>2023-01-12</td>\n",
       "      <td>6</td>\n",
       "    </tr>\n",
       "  </tbody>\n",
       "</table>\n",
       "</div>"
      ],
      "text/plain": [
       "   date_short  count\n",
       "0  2022-05-11      1\n",
       "1  2022-05-24      1\n",
       "2  2023-01-05      1\n",
       "3  2023-01-06      1\n",
       "4  2023-01-08      4\n",
       "5  2023-01-09      2\n",
       "6  2023-01-10      2\n",
       "7  2023-01-11      1\n",
       "8  2023-01-12      6"
      ]
     },
     "execution_count": 10,
     "metadata": {},
     "output_type": "execute_result"
    }
   ],
   "source": [
    "df_dates.sort_values('date_short')"
   ]
  },
  {
   "cell_type": "code",
   "execution_count": 11,
   "id": "84459239",
   "metadata": {},
   "outputs": [
    {
     "data": {
      "text/plain": [
       "<AxesSubplot: xlabel='date_short'>"
      ]
     },
     "execution_count": 11,
     "metadata": {},
     "output_type": "execute_result"
    },
    {
     "data": {
      "image/png": "[encoded data removed]",
      "text/plain": [
       "<Figure size 640x480 with 1 Axes>"
      ]
     },
     "metadata": {},
     "output_type": "display_data"
    }
   ],
   "source": [
    "df_dates.plot(kind='bar', x='date_short', y='count')"
   ]
  },
  {
   "cell_type": "markdown",
   "id": "337290ba",
   "metadata": {},
   "source": [
    "# Graph"
   ]
  },
  {
   "cell_type": "code",
   "execution_count": 12,
   "id": "062c2c60",
   "metadata": {},
   "outputs": [
    {
     "data": {
      "text/html": [
       "<div>\n",
       "<style scoped>\n",
       "    .dataframe tbody tr th:only-of-type {\n",
       "        vertical-align: middle;\n",
       "    }\n",
       "\n",
       "    .dataframe tbody tr th {\n",
       "        vertical-align: top;\n",
       "    }\n",
       "\n",
       "    .dataframe thead th {\n",
       "        text-align: right;\n",
       "    }\n",
       "</style>\n",
       "<table border=\"1\" class=\"dataframe\">\n",
       "  <thead>\n",
       "    <tr style=\"text-align: right;\">\n",
       "      <th></th>\n",
       "      <th>date_short</th>\n",
       "      <th>count</th>\n",
       "    </tr>\n",
       "  </thead>\n",
       "  <tbody>\n",
       "    <tr>\n",
       "      <th>0</th>\n",
       "      <td>2022-05-11</td>\n",
       "      <td>1</td>\n",
       "    </tr>\n",
       "    <tr>\n",
       "      <th>1</th>\n",
       "      <td>2022-05-24</td>\n",
       "      <td>1</td>\n",
       "    </tr>\n",
       "    <tr>\n",
       "      <th>2</th>\n",
       "      <td>2023-01-05</td>\n",
       "      <td>1</td>\n",
       "    </tr>\n",
       "    <tr>\n",
       "      <th>3</th>\n",
       "      <td>2023-01-06</td>\n",
       "      <td>1</td>\n",
       "    </tr>\n",
       "    <tr>\n",
       "      <th>4</th>\n",
       "      <td>2023-01-08</td>\n",
       "      <td>4</td>\n",
       "    </tr>\n",
       "    <tr>\n",
       "      <th>5</th>\n",
       "      <td>2023-01-09</td>\n",
       "      <td>2</td>\n",
       "    </tr>\n",
       "    <tr>\n",
       "      <th>6</th>\n",
       "      <td>2023-01-10</td>\n",
       "      <td>2</td>\n",
       "    </tr>\n",
       "    <tr>\n",
       "      <th>7</th>\n",
       "      <td>2023-01-11</td>\n",
       "      <td>1</td>\n",
       "    </tr>\n",
       "    <tr>\n",
       "      <th>8</th>\n",
       "      <td>2023-01-12</td>\n",
       "      <td>6</td>\n",
       "    </tr>\n",
       "  </tbody>\n",
       "</table>\n",
       "</div>"
      ],
      "text/plain": [
       "   date_short  count\n",
       "0  2022-05-11      1\n",
       "1  2022-05-24      1\n",
       "2  2023-01-05      1\n",
       "3  2023-01-06      1\n",
       "4  2023-01-08      4\n",
       "5  2023-01-09      2\n",
       "6  2023-01-10      2\n",
       "7  2023-01-11      1\n",
       "8  2023-01-12      6"
      ]
     },
     "execution_count": 12,
     "metadata": {},
     "output_type": "execute_result"
    }
   ],
   "source": [
    "df_dates"
   ]
  },
  {
   "cell_type": "code",
   "execution_count": 23,
   "id": "775cb14a",
   "metadata": {},
   "outputs": [
    {
     "data": {
      "text/plain": [
       "<BarContainer object of 9 artists>"
      ]
     },
     "execution_count": 23,
     "metadata": {},
     "output_type": "execute_result"
    },
    {
     "data": {
      "image/png": "[encoded data removed]",
      "text/plain": [
       "<Figure size 640x480 with 1 Axes>"
      ]
     },
     "metadata": {},
     "output_type": "display_data"
    }
   ],
   "source": [
    "plt.bar(x='date_short', height='count', data=df_dates)"
   ]
  },
  {
   "cell_type": "code",
   "execution_count": 24,
   "id": "ec8597a8",
   "metadata": {},
   "outputs": [
    {
     "data": {
      "text/html": [
       "<div>\n",
       "<style scoped>\n",
       "    .dataframe tbody tr th:only-of-type {\n",
       "        vertical-align: middle;\n",
       "    }\n",
       "\n",
       "    .dataframe tbody tr th {\n",
       "        vertical-align: top;\n",
       "    }\n",
       "\n",
       "    .dataframe thead th {\n",
       "        text-align: right;\n",
       "    }\n",
       "</style>\n",
       "<table border=\"1\" class=\"dataframe\">\n",
       "  <thead>\n",
       "    <tr style=\"text-align: right;\">\n",
       "      <th></th>\n",
       "      <th>date_short</th>\n",
       "      <th>count</th>\n",
       "    </tr>\n",
       "  </thead>\n",
       "  <tbody>\n",
       "    <tr>\n",
       "      <th>0</th>\n",
       "      <td>2022-05-11</td>\n",
       "      <td>1</td>\n",
       "    </tr>\n",
       "    <tr>\n",
       "      <th>1</th>\n",
       "      <td>2022-05-24</td>\n",
       "      <td>1</td>\n",
       "    </tr>\n",
       "    <tr>\n",
       "      <th>2</th>\n",
       "      <td>2023-01-05</td>\n",
       "      <td>1</td>\n",
       "    </tr>\n",
       "    <tr>\n",
       "      <th>3</th>\n",
       "      <td>2023-01-06</td>\n",
       "      <td>1</td>\n",
       "    </tr>\n",
       "    <tr>\n",
       "      <th>4</th>\n",
       "      <td>2023-01-08</td>\n",
       "      <td>4</td>\n",
       "    </tr>\n",
       "    <tr>\n",
       "      <th>5</th>\n",
       "      <td>2023-01-09</td>\n",
       "      <td>2</td>\n",
       "    </tr>\n",
       "    <tr>\n",
       "      <th>6</th>\n",
       "      <td>2023-01-10</td>\n",
       "      <td>2</td>\n",
       "    </tr>\n",
       "    <tr>\n",
       "      <th>7</th>\n",
       "      <td>2023-01-11</td>\n",
       "      <td>1</td>\n",
       "    </tr>\n",
       "    <tr>\n",
       "      <th>8</th>\n",
       "      <td>2023-01-12</td>\n",
       "      <td>6</td>\n",
       "    </tr>\n",
       "  </tbody>\n",
       "</table>\n",
       "</div>"
      ],
      "text/plain": [
       "   date_short  count\n",
       "0  2022-05-11      1\n",
       "1  2022-05-24      1\n",
       "2  2023-01-05      1\n",
       "3  2023-01-06      1\n",
       "4  2023-01-08      4\n",
       "5  2023-01-09      2\n",
       "6  2023-01-10      2\n",
       "7  2023-01-11      1\n",
       "8  2023-01-12      6"
      ]
     },
     "execution_count": 24,
     "metadata": {},
     "output_type": "execute_result"
    }
   ],
   "source": [
    "df_dates"
   ]
  },
  {
   "cell_type": "code",
   "execution_count": 29,
   "id": "ef1df8f2",
   "metadata": {},
   "outputs": [],
   "source": [
    "df_dates['date_short'] = pd.to_datetime(df_dates['date_short'])"
   ]
  },
  {
   "cell_type": "code",
   "execution_count": 30,
   "id": "0eddcf46",
   "metadata": {},
   "outputs": [
    {
     "data": {
      "text/plain": [
       "pandas._libs.tslibs.timestamps.Timestamp"
      ]
     },
     "execution_count": 30,
     "metadata": {},
     "output_type": "execute_result"
    }
   ],
   "source": [
    "type(df_dates['date_short'][1])"
   ]
  },
  {
   "cell_type": "code",
   "execution_count": 40,
   "id": "d9133262",
   "metadata": {},
   "outputs": [
    {
     "data": {
      "text/html": [
       "<div>\n",
       "<style scoped>\n",
       "    .dataframe tbody tr th:only-of-type {\n",
       "        vertical-align: middle;\n",
       "    }\n",
       "\n",
       "    .dataframe tbody tr th {\n",
       "        vertical-align: top;\n",
       "    }\n",
       "\n",
       "    .dataframe thead th {\n",
       "        text-align: right;\n",
       "    }\n",
       "</style>\n",
       "<table border=\"1\" class=\"dataframe\">\n",
       "  <thead>\n",
       "    <tr style=\"text-align: right;\">\n",
       "      <th></th>\n",
       "      <th>date_short</th>\n",
       "      <th>count</th>\n",
       "    </tr>\n",
       "  </thead>\n",
       "  <tbody>\n",
       "    <tr>\n",
       "      <th>3</th>\n",
       "      <td>2023-01-06</td>\n",
       "      <td>1</td>\n",
       "    </tr>\n",
       "    <tr>\n",
       "      <th>4</th>\n",
       "      <td>2023-01-08</td>\n",
       "      <td>4</td>\n",
       "    </tr>\n",
       "  </tbody>\n",
       "</table>\n",
       "</div>"
      ],
      "text/plain": [
       "  date_short  count\n",
       "3 2023-01-06      1\n",
       "4 2023-01-08      4"
      ]
     },
     "execution_count": 40,
     "metadata": {},
     "output_type": "execute_result"
    }
   ],
   "source": [
    "df_dates[(df_dates['date_short'] > datetime(2023,1,5))\n",
    "         & (df_dates['date_short'] < datetime(2023,1,9))]"
   ]
  },
  {
   "cell_type": "code",
   "execution_count": null,
   "id": "bea94ac5",
   "metadata": {},
   "outputs": [],
   "source": []
  }
 ],
 "metadata": {
  "kernelspec": {
   "display_name": "Python 3 (ipykernel)",
   "language": "python",
   "name": "python3"
  },
  "language_info": {
   "codemirror_mode": {
    "name": "ipython",
    "version": 3
   },
   "file_extension": ".py",
   "mimetype": "text/x-python",
   "name": "python",
   "nbconvert_exporter": "python",
   "pygments_lexer": "ipython3",
   "version": "3.10.9"
  },
  "toc": {
   "base_numbering": 1,
   "nav_menu": {},
   "number_sections": true,
   "sideBar": true,
   "skip_h1_title": false,
   "title_cell": "Table of Contents",
   "title_sidebar": "Contents",
   "toc_cell": false,
   "toc_position": {},
   "toc_section_display": true,
   "toc_window_display": false
  }
 },
 "nbformat": 4,
 "nbformat_minor": 5
}
