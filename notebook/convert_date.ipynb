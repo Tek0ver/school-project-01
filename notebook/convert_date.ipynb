{
 "cells": [
  {
   "cell_type": "code",
   "execution_count": 88,
   "metadata": {},
   "outputs": [],
   "source": [
    "import pandas as pd\n",
    "from datetime import date\n",
    "from datetime import timedelta"
   ]
  },
  {
   "cell_type": "code",
   "execution_count": 89,
   "metadata": {},
   "outputs": [],
   "source": [
    "df = pd.read_csv(\"../data/le_monde.csv\")"
   ]
  },
  {
   "cell_type": "code",
   "execution_count": 90,
   "metadata": {},
   "outputs": [
    {
     "data": {
      "text/html": [
       "<div>\n",
       "<style scoped>\n",
       "    .dataframe tbody tr th:only-of-type {\n",
       "        vertical-align: middle;\n",
       "    }\n",
       "\n",
       "    .dataframe tbody tr th {\n",
       "        vertical-align: top;\n",
       "    }\n",
       "\n",
       "    .dataframe thead th {\n",
       "        text-align: right;\n",
       "    }\n",
       "</style>\n",
       "<table border=\"1\" class=\"dataframe\">\n",
       "  <thead>\n",
       "    <tr style=\"text-align: right;\">\n",
       "      <th></th>\n",
       "      <th>title</th>\n",
       "      <th>date</th>\n",
       "    </tr>\n",
       "  </thead>\n",
       "  <tbody>\n",
       "    <tr>\n",
       "      <th>0</th>\n",
       "      <td>La chaîne d’information russe RT France annonc...</td>\n",
       "      <td>Publié aujourd’hui à 18h06, mis à jour à 18h28</td>\n",
       "    </tr>\n",
       "    <tr>\n",
       "      <th>1</th>\n",
       "      <td>« France-Allemagne, un couple en thérapie », s...</td>\n",
       "      <td>Publié aujourd’hui à 16h00</td>\n",
       "    </tr>\n",
       "    <tr>\n",
       "      <th>2</th>\n",
       "      <td>La Russie promet des « mesures de rétorsion » ...</td>\n",
       "      <td>Publié aujourd’hui à 11h21, mis à jour à 12h05</td>\n",
       "    </tr>\n",
       "    <tr>\n",
       "      <th>3</th>\n",
       "      <td>« France et Allemagne auraient bien trop à per...</td>\n",
       "      <td>Publié aujourd’hui à 11h15, mis à jour à 11h27</td>\n",
       "    </tr>\n",
       "    <tr>\n",
       "      <th>4</th>\n",
       "      <td>Des batteries de défense antiaérienne installé...</td>\n",
       "      <td>Publié aujourd’hui à 10h44, mis à jour à 10h44</td>\n",
       "    </tr>\n",
       "  </tbody>\n",
       "</table>\n",
       "</div>"
      ],
      "text/plain": [
       "                                               title  \\\n",
       "0  La chaîne d’information russe RT France annonc...   \n",
       "1  « France-Allemagne, un couple en thérapie », s...   \n",
       "2  La Russie promet des « mesures de rétorsion » ...   \n",
       "3  « France et Allemagne auraient bien trop à per...   \n",
       "4  Des batteries de défense antiaérienne installé...   \n",
       "\n",
       "                                             date  \n",
       "0  Publié aujourd’hui à 18h06, mis à jour à 18h28  \n",
       "1                      Publié aujourd’hui à 16h00  \n",
       "2  Publié aujourd’hui à 11h21, mis à jour à 12h05  \n",
       "3  Publié aujourd’hui à 11h15, mis à jour à 11h27  \n",
       "4  Publié aujourd’hui à 10h44, mis à jour à 10h44  "
      ]
     },
     "execution_count": 90,
     "metadata": {},
     "output_type": "execute_result"
    }
   ],
   "source": [
    "df.head()"
   ]
  },
  {
   "cell_type": "code",
   "execution_count": 91,
   "metadata": {},
   "outputs": [],
   "source": [
    "df[\"date\"] = df[\"date\"].str.findall(r\"[^Publié le ].+?(?=\\d{2}h\\d{2}).{5}\").str[0]"
   ]
  },
  {
   "cell_type": "code",
   "execution_count": 92,
   "metadata": {},
   "outputs": [],
   "source": [
    "df[\"date\"] = df[\"date\"].str.replace(\"à \", \"\")"
   ]
  },
  {
   "cell_type": "code",
   "execution_count": 95,
   "metadata": {},
   "outputs": [],
   "source": [
    "today = date.today()\n",
    "yesterday = today - timedelta(days = 1)\n",
    "\n",
    "df[\"date\"] = df[\"date\"].str.replace(\"aujourd’hui\", today.strftime('%d %m %Y'))\n",
    "df[\"date\"] = df[\"date\"].str.replace(\"hier\", yesterday.strftime('%d %m %Y'))\n",
    "df[\"date\"] = df[\"date\"].str.replace(\"h\", \" \")"
   ]
  },
  {
   "cell_type": "code",
   "execution_count": 102,
   "metadata": {},
   "outputs": [
    {
     "data": {
      "text/plain": [
       "title    « Monde d’hier, monde de demain » : l’Union eu...\n",
       "date                                   2023-01-20 05:45:00\n",
       "Name: 20, dtype: object"
      ]
     },
     "execution_count": 102,
     "metadata": {},
     "output_type": "execute_result"
    }
   ],
   "source": [
    "df.loc[20]"
   ]
  },
  {
   "cell_type": "code",
   "execution_count": 97,
   "metadata": {},
   "outputs": [],
   "source": [
    "df[['day', 'month', 'year', 'hour', 'minute']] = df['date'].str.split(' ', expand=True)"
   ]
  },
  {
   "cell_type": "code",
   "execution_count": 98,
   "metadata": {},
   "outputs": [],
   "source": [
    "month_dict = {\n",
    "    'janvier': '01',\n",
    "    'février': '02',\n",
    "    'mars': '03',\n",
    "    'avril': '04',\n",
    "    'mai': '05',\n",
    "    'juin': '06',\n",
    "    'juillet': '07',\n",
    "    'août': '08',\n",
    "    'septembre': '09',\n",
    "    'octobre': '10',\n",
    "    'novembre': '11',\n",
    "    'décembre': '12'\n",
    "}"
   ]
  },
  {
   "cell_type": "code",
   "execution_count": 99,
   "metadata": {},
   "outputs": [],
   "source": [
    "df['month'] = df[\"month\"].replace(month_dict)\n",
    "df['date'] = df['day'] + '/' + df['month'] + '/' + df['year'] + ' ' + df[\"hour\"] + ':' + df[\"minute\"]\n",
    "df['date'] = pd.to_datetime(df['date'])\n",
    "df.drop(columns = ['day', 'month', 'year', 'hour', 'minute'], inplace=True)"
   ]
  },
  {
   "cell_type": "code",
   "execution_count": 103,
   "metadata": {},
   "outputs": [
    {
     "data": {
      "text/plain": [
       "title    « Monde d’hier, monde de demain » : l’Union eu...\n",
       "date                                   2023-01-20 05:45:00\n",
       "Name: 20, dtype: object"
      ]
     },
     "execution_count": 103,
     "metadata": {},
     "output_type": "execute_result"
    }
   ],
   "source": [
    "df.loc[20]"
   ]
  },
  {
   "cell_type": "code",
   "execution_count": null,
   "metadata": {},
   "outputs": [],
   "source": []
  }
 ],
 "metadata": {
  "kernelspec": {
   "display_name": "vinci01",
   "language": "python",
   "name": "python3"
  },
  "language_info": {
   "codemirror_mode": {
    "name": "ipython",
    "version": 3
   },
   "file_extension": ".py",
   "mimetype": "text/x-python",
   "name": "python",
   "nbconvert_exporter": "python",
   "pygments_lexer": "ipython3",
   "version": "3.10.9"
  },
  "orig_nbformat": 4,
  "vscode": {
   "interpreter": {
    "hash": "cccebd68a798ce923b1ba830d3f75651cf9efd9d09b6d8dd4f8b1d32860ad5a1"
   }
  }
 },
 "nbformat": 4,
 "nbformat_minor": 2
}
