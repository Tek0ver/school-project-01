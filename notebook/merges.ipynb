{
 "cells": [
  {
   "cell_type": "code",
   "execution_count": 1,
   "id": "9e0a0476",
   "metadata": {},
   "outputs": [],
   "source": [
    "import pandas as pd"
   ]
  },
  {
   "cell_type": "code",
   "execution_count": 2,
   "id": "12ea18c4",
   "metadata": {},
   "outputs": [],
   "source": [
    "data = {\n",
    "    'articles': pd.read_csv('articles.csv', date_parser=pd.Timestamp),\n",
    "    'content_cities': pd.read_csv('content_cities.csv'),\n",
    "    'contents': pd.read_csv('contents.csv'),\n",
    "    'geocity': pd.read_csv('geocity.csv')\n",
    "    }"
   ]
  },
  {
   "cell_type": "code",
   "execution_count": 3,
   "id": "3cbaa277",
   "metadata": {},
   "outputs": [],
   "source": [
    "data['articles']['article_date'] = pd.to_datetime(data['articles']['article_date'])"
   ]
  },
  {
   "cell_type": "markdown",
   "id": "c5845b97",
   "metadata": {},
   "source": [
    "# query_cities_from_articles"
   ]
  },
  {
   "cell_type": "code",
   "execution_count": 4,
   "id": "110d9fac",
   "metadata": {
    "scrolled": true
   },
   "outputs": [
    {
     "data": {
      "text/plain": [
       "'\\nSELECT article_date, content_cities.city, latitude, longitude\\nFROM articles\\nJOIN contents ON articles.id = contents.article_id\\nJOIN content_cities ON contents.id = content_cities.content_id\\nJOIN geocity ON content_cities.city = geocity.city\\nORDER BY article_date\\n;\\n'"
      ]
     },
     "execution_count": 4,
     "metadata": {},
     "output_type": "execute_result"
    }
   ],
   "source": [
    "\"\"\"\n",
    "SELECT article_date, content_cities.city, latitude, longitude\n",
    "FROM articles\n",
    "JOIN contents ON articles.id = contents.article_id\n",
    "JOIN content_cities ON contents.id = content_cities.content_id\n",
    "JOIN geocity ON content_cities.city = geocity.city\n",
    "ORDER BY article_date\n",
    ";\n",
    "\"\"\""
   ]
  },
  {
   "cell_type": "code",
   "execution_count": 5,
   "id": "fecf0228",
   "metadata": {},
   "outputs": [
    {
     "name": "stderr",
     "output_type": "stream",
     "text": [
      "/tmp/ipykernel_35437/2606479411.py:17: FutureWarning: Passing 'suffixes' which cause duplicate columns {'id_x'} in the result is deprecated and will raise a MergeError in a future version.\n",
      "  df = pd.merge(\n"
     ]
    }
   ],
   "source": [
    "df = pd.merge(\n",
    "    data['articles'],\n",
    "    data['contents'], \n",
    "    left_on='id', \n",
    "    right_on='article_id', \n",
    "    how='inner'\n",
    ")\n",
    "\n",
    "df = pd.merge(\n",
    "    df,\n",
    "    data['content_cities'],\n",
    "    left_on='id_y', \n",
    "    right_on='id', \n",
    "    how='inner'\n",
    ")\n",
    "\n",
    "df = pd.merge(\n",
    "    df,\n",
    "    data['geocity'],\n",
    "    left_on='city', \n",
    "    right_on='city', \n",
    "    how='inner'\n",
    ")\n",
    "\n",
    "df = df[['article_date', 'city', 'latitude', 'longitude']]"
   ]
  },
  {
   "cell_type": "code",
   "execution_count": 6,
   "id": "4658e6ef",
   "metadata": {},
   "outputs": [
    {
     "data": {
      "text/html": [
       "<div>\n",
       "<style scoped>\n",
       "    .dataframe tbody tr th:only-of-type {\n",
       "        vertical-align: middle;\n",
       "    }\n",
       "\n",
       "    .dataframe tbody tr th {\n",
       "        vertical-align: top;\n",
       "    }\n",
       "\n",
       "    .dataframe thead th {\n",
       "        text-align: right;\n",
       "    }\n",
       "</style>\n",
       "<table border=\"1\" class=\"dataframe\">\n",
       "  <thead>\n",
       "    <tr style=\"text-align: right;\">\n",
       "      <th></th>\n",
       "      <th>article_date</th>\n",
       "      <th>city</th>\n",
       "      <th>latitude</th>\n",
       "      <th>longitude</th>\n",
       "    </tr>\n",
       "  </thead>\n",
       "  <tbody>\n",
       "    <tr>\n",
       "      <th>0</th>\n",
       "      <td>2021-02-03 12:38:00</td>\n",
       "      <td>Donetsk</td>\n",
       "      <td>48.015877</td>\n",
       "      <td>37.801342</td>\n",
       "    </tr>\n",
       "    <tr>\n",
       "      <th>1</th>\n",
       "      <td>2022-05-07 22:45:00</td>\n",
       "      <td>Donetsk</td>\n",
       "      <td>48.015877</td>\n",
       "      <td>37.801342</td>\n",
       "    </tr>\n",
       "    <tr>\n",
       "      <th>2</th>\n",
       "      <td>2022-06-02 10:03:00</td>\n",
       "      <td>Donetsk</td>\n",
       "      <td>48.015877</td>\n",
       "      <td>37.801342</td>\n",
       "    </tr>\n",
       "    <tr>\n",
       "      <th>3</th>\n",
       "      <td>2022-06-15 22:52:00</td>\n",
       "      <td>Donetsk</td>\n",
       "      <td>48.015877</td>\n",
       "      <td>37.801342</td>\n",
       "    </tr>\n",
       "    <tr>\n",
       "      <th>4</th>\n",
       "      <td>2022-06-14 17:27:00</td>\n",
       "      <td>Donetsk</td>\n",
       "      <td>48.015877</td>\n",
       "      <td>37.801342</td>\n",
       "    </tr>\n",
       "    <tr>\n",
       "      <th>...</th>\n",
       "      <td>...</td>\n",
       "      <td>...</td>\n",
       "      <td>...</td>\n",
       "      <td>...</td>\n",
       "    </tr>\n",
       "    <tr>\n",
       "      <th>2836</th>\n",
       "      <td>2022-03-04 09:39:00</td>\n",
       "      <td>Pokrov</td>\n",
       "      <td>55.919600</td>\n",
       "      <td>39.177277</td>\n",
       "    </tr>\n",
       "    <tr>\n",
       "      <th>2837</th>\n",
       "      <td>2022-03-04 10:23:00</td>\n",
       "      <td>Pokrov</td>\n",
       "      <td>55.919600</td>\n",
       "      <td>39.177277</td>\n",
       "    </tr>\n",
       "    <tr>\n",
       "      <th>2838</th>\n",
       "      <td>2022-03-08 07:15:00</td>\n",
       "      <td>Pokrov</td>\n",
       "      <td>55.919600</td>\n",
       "      <td>39.177277</td>\n",
       "    </tr>\n",
       "    <tr>\n",
       "      <th>2839</th>\n",
       "      <td>2022-03-08 06:45:00</td>\n",
       "      <td>Pavlohrad</td>\n",
       "      <td>48.531677</td>\n",
       "      <td>35.870370</td>\n",
       "    </tr>\n",
       "    <tr>\n",
       "      <th>2840</th>\n",
       "      <td>2022-03-17 06:00:00</td>\n",
       "      <td>Luka</td>\n",
       "      <td>45.959244</td>\n",
       "      <td>15.820410</td>\n",
       "    </tr>\n",
       "  </tbody>\n",
       "</table>\n",
       "<p>2841 rows × 4 columns</p>\n",
       "</div>"
      ],
      "text/plain": [
       "            article_date       city   latitude  longitude\n",
       "0    2021-02-03 12:38:00    Donetsk  48.015877  37.801342\n",
       "1    2022-05-07 22:45:00    Donetsk  48.015877  37.801342\n",
       "2    2022-06-02 10:03:00    Donetsk  48.015877  37.801342\n",
       "3    2022-06-15 22:52:00    Donetsk  48.015877  37.801342\n",
       "4    2022-06-14 17:27:00    Donetsk  48.015877  37.801342\n",
       "...                  ...        ...        ...        ...\n",
       "2836 2022-03-04 09:39:00     Pokrov  55.919600  39.177277\n",
       "2837 2022-03-04 10:23:00     Pokrov  55.919600  39.177277\n",
       "2838 2022-03-08 07:15:00     Pokrov  55.919600  39.177277\n",
       "2839 2022-03-08 06:45:00  Pavlohrad  48.531677  35.870370\n",
       "2840 2022-03-17 06:00:00       Luka  45.959244  15.820410\n",
       "\n",
       "[2841 rows x 4 columns]"
      ]
     },
     "execution_count": 6,
     "metadata": {},
     "output_type": "execute_result"
    }
   ],
   "source": [
    "df"
   ]
  },
  {
   "cell_type": "code",
   "execution_count": 7,
   "id": "ff2b98b9",
   "metadata": {},
   "outputs": [
    {
     "data": {
      "text/plain": [
       "(datetime.datetime(1960, 5, 25, 0, 0), datetime.datetime(2023, 3, 9, 16, 0))"
      ]
     },
     "execution_count": 7,
     "metadata": {},
     "output_type": "execute_result"
    }
   ],
   "source": [
    "date_min = min(data['articles']['article_date']).to_pydatetime()\n",
    "date_max = max(data['articles']['article_date']).to_pydatetime()\n",
    "\n",
    "date_min, date_max"
   ]
  },
  {
   "cell_type": "code",
   "execution_count": 9,
   "id": "35b1dd20",
   "metadata": {},
   "outputs": [],
   "source": [
    "df_cities = df.copy()"
   ]
  },
  {
   "cell_type": "code",
   "execution_count": 10,
   "id": "0da40f03",
   "metadata": {},
   "outputs": [],
   "source": [
    "df_cities = df_cities[df_cities['article_date'] <= date_max]"
   ]
  },
  {
   "cell_type": "code",
   "execution_count": 11,
   "id": "a8e25700",
   "metadata": {},
   "outputs": [
    {
     "data": {
      "text/html": [
       "<div>\n",
       "<style scoped>\n",
       "    .dataframe tbody tr th:only-of-type {\n",
       "        vertical-align: middle;\n",
       "    }\n",
       "\n",
       "    .dataframe tbody tr th {\n",
       "        vertical-align: top;\n",
       "    }\n",
       "\n",
       "    .dataframe thead th {\n",
       "        text-align: right;\n",
       "    }\n",
       "</style>\n",
       "<table border=\"1\" class=\"dataframe\">\n",
       "  <thead>\n",
       "    <tr style=\"text-align: right;\">\n",
       "      <th></th>\n",
       "      <th>article_date</th>\n",
       "      <th>city</th>\n",
       "      <th>latitude</th>\n",
       "      <th>longitude</th>\n",
       "    </tr>\n",
       "  </thead>\n",
       "  <tbody>\n",
       "    <tr>\n",
       "      <th>0</th>\n",
       "      <td>2021-02-03 12:38:00</td>\n",
       "      <td>Donetsk</td>\n",
       "      <td>48.015877</td>\n",
       "      <td>37.801342</td>\n",
       "    </tr>\n",
       "    <tr>\n",
       "      <th>1</th>\n",
       "      <td>2022-05-07 22:45:00</td>\n",
       "      <td>Donetsk</td>\n",
       "      <td>48.015877</td>\n",
       "      <td>37.801342</td>\n",
       "    </tr>\n",
       "    <tr>\n",
       "      <th>2</th>\n",
       "      <td>2022-06-02 10:03:00</td>\n",
       "      <td>Donetsk</td>\n",
       "      <td>48.015877</td>\n",
       "      <td>37.801342</td>\n",
       "    </tr>\n",
       "    <tr>\n",
       "      <th>3</th>\n",
       "      <td>2022-06-15 22:52:00</td>\n",
       "      <td>Donetsk</td>\n",
       "      <td>48.015877</td>\n",
       "      <td>37.801342</td>\n",
       "    </tr>\n",
       "    <tr>\n",
       "      <th>4</th>\n",
       "      <td>2022-06-14 17:27:00</td>\n",
       "      <td>Donetsk</td>\n",
       "      <td>48.015877</td>\n",
       "      <td>37.801342</td>\n",
       "    </tr>\n",
       "    <tr>\n",
       "      <th>...</th>\n",
       "      <td>...</td>\n",
       "      <td>...</td>\n",
       "      <td>...</td>\n",
       "      <td>...</td>\n",
       "    </tr>\n",
       "    <tr>\n",
       "      <th>2836</th>\n",
       "      <td>2022-03-04 09:39:00</td>\n",
       "      <td>Pokrov</td>\n",
       "      <td>55.919600</td>\n",
       "      <td>39.177277</td>\n",
       "    </tr>\n",
       "    <tr>\n",
       "      <th>2837</th>\n",
       "      <td>2022-03-04 10:23:00</td>\n",
       "      <td>Pokrov</td>\n",
       "      <td>55.919600</td>\n",
       "      <td>39.177277</td>\n",
       "    </tr>\n",
       "    <tr>\n",
       "      <th>2838</th>\n",
       "      <td>2022-03-08 07:15:00</td>\n",
       "      <td>Pokrov</td>\n",
       "      <td>55.919600</td>\n",
       "      <td>39.177277</td>\n",
       "    </tr>\n",
       "    <tr>\n",
       "      <th>2839</th>\n",
       "      <td>2022-03-08 06:45:00</td>\n",
       "      <td>Pavlohrad</td>\n",
       "      <td>48.531677</td>\n",
       "      <td>35.870370</td>\n",
       "    </tr>\n",
       "    <tr>\n",
       "      <th>2840</th>\n",
       "      <td>2022-03-17 06:00:00</td>\n",
       "      <td>Luka</td>\n",
       "      <td>45.959244</td>\n",
       "      <td>15.820410</td>\n",
       "    </tr>\n",
       "  </tbody>\n",
       "</table>\n",
       "<p>2841 rows × 4 columns</p>\n",
       "</div>"
      ],
      "text/plain": [
       "            article_date       city   latitude  longitude\n",
       "0    2021-02-03 12:38:00    Donetsk  48.015877  37.801342\n",
       "1    2022-05-07 22:45:00    Donetsk  48.015877  37.801342\n",
       "2    2022-06-02 10:03:00    Donetsk  48.015877  37.801342\n",
       "3    2022-06-15 22:52:00    Donetsk  48.015877  37.801342\n",
       "4    2022-06-14 17:27:00    Donetsk  48.015877  37.801342\n",
       "...                  ...        ...        ...        ...\n",
       "2836 2022-03-04 09:39:00     Pokrov  55.919600  39.177277\n",
       "2837 2022-03-04 10:23:00     Pokrov  55.919600  39.177277\n",
       "2838 2022-03-08 07:15:00     Pokrov  55.919600  39.177277\n",
       "2839 2022-03-08 06:45:00  Pavlohrad  48.531677  35.870370\n",
       "2840 2022-03-17 06:00:00       Luka  45.959244  15.820410\n",
       "\n",
       "[2841 rows x 4 columns]"
      ]
     },
     "execution_count": 11,
     "metadata": {},
     "output_type": "execute_result"
    }
   ],
   "source": [
    "df_cities"
   ]
  },
  {
   "cell_type": "code",
   "execution_count": null,
   "id": "32adb757",
   "metadata": {},
   "outputs": [],
   "source": []
  },
  {
   "cell_type": "code",
   "execution_count": null,
   "id": "ac31a22d",
   "metadata": {},
   "outputs": [],
   "source": []
  },
  {
   "cell_type": "code",
   "execution_count": null,
   "id": "e2dabc68",
   "metadata": {},
   "outputs": [],
   "source": []
  }
 ],
 "metadata": {
  "kernelspec": {
   "display_name": "Python 3 (ipykernel)",
   "language": "python",
   "name": "python3"
  },
  "language_info": {
   "codemirror_mode": {
    "name": "ipython",
    "version": 3
   },
   "file_extension": ".py",
   "mimetype": "text/x-python",
   "name": "python",
   "nbconvert_exporter": "python",
   "pygments_lexer": "ipython3",
   "version": "3.10.9"
  },
  "toc": {
   "base_numbering": 1,
   "nav_menu": {},
   "number_sections": true,
   "sideBar": true,
   "skip_h1_title": false,
   "title_cell": "Table of Contents",
   "title_sidebar": "Contents",
   "toc_cell": false,
   "toc_position": {},
   "toc_section_display": true,
   "toc_window_display": false
  }
 },
 "nbformat": 4,
 "nbformat_minor": 5
}
