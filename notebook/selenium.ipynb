{
 "cells": [
  {
   "cell_type": "code",
   "execution_count": 40,
   "metadata": {},
   "outputs": [],
   "source": [
    "# selenium 4\n",
    "from selenium import webdriver\n",
    "from selenium.webdriver.chrome.service import Service as ChromiumService\n",
    "from webdriver_manager.chrome import ChromeDriverManager\n",
    "from webdriver_manager.core.utils import ChromeType\n",
    "from selenium.webdriver.common.by import By\n",
    "from selenium.webdriver.support.ui import WebDriverWait\n",
    "from selenium.webdriver.support import expected_conditions as EC\n",
    "from selenium.webdriver.common.keys import Keys\n",
    "\n",
    "# driver = webdriver.Chrome(service=ChromiumService(ChromeDriverManager(chrome_type=ChromeType.CHROMIUM).install()))"
   ]
  },
  {
   "cell_type": "code",
   "execution_count": 41,
   "metadata": {},
   "outputs": [],
   "source": [
    "driver = webdriver.Chrome()\n",
    "\n",
    "driver.get(\"https://www.lemonde.fr/recherche/?search_keywords=ukraine&start_at=19%2F12%2F1944&end_at=15%2F12%2F2022&search_sort=relevance_desc\")\n",
    "\n",
    "WebDriverWait(driver, 10).until(EC.element_to_be_clickable((By.XPATH,'//*[@id=\"js-body\"]/div[6]/div/footer/button'))).click()"
   ]
  },
  {
   "cell_type": "code",
   "execution_count": 42,
   "metadata": {},
   "outputs": [],
   "source": [
    "search_box = driver.find_element(by=By.XPATH, value='//*[@id=\"search_keywords\"]')"
   ]
  },
  {
   "cell_type": "code",
   "execution_count": 43,
   "metadata": {},
   "outputs": [],
   "source": [
    "search_box.send_keys(\"ukraine\")"
   ]
  },
  {
   "cell_type": "code",
   "execution_count": 44,
   "metadata": {},
   "outputs": [],
   "source": [
    "search_box.send_keys(Keys.RETURN)"
   ]
  },
  {
   "cell_type": "code",
   "execution_count": 56,
   "metadata": {},
   "outputs": [],
   "source": [
    "titles = []\n",
    "for title in driver.find_elements(by=By.CLASS_NAME, value='teaser__title'):\n",
    "    titles.append(title.text)"
   ]
  },
  {
   "cell_type": "code",
   "execution_count": 57,
   "metadata": {},
   "outputs": [
    {
     "data": {
      "text/plain": [
       "['Guerre en Ukraine en direct : des centaines de civils exécutés au début de l’invasion, de « probables crimes de guerre », selon l’ONU',\n",
       " 'Guerre en Ukraine : les membres du G7 s’accordent sur une « plate-forme » chargée de « coordonner l’aide financière » à Kiev',\n",
       " 'Guerre en Ukraine : à l’issue des sommets à Paris, près d’un milliard d’euros de dons récolté ; des rails, des ponts et des semences seront fournis',\n",
       " 'La guerre en Ukraine, moteur indirect d’une ambitieuse industrie sud-coréenne de l’armement',\n",
       " '« Pour soutenir l’Ukraine, il faut aider les acteurs locaux »',\n",
       " 'Guerre en Ukraine : le cavalier seul diplomatique d’Emmanuel Macron',\n",
       " 'Guerre en Ukraine : dans la fabrique des drones ukrainiens',\n",
       " 'Aide financière à l’Ukraine, impôt minimum sur les multinationales : la Hongrie lève son veto',\n",
       " 'Soumise à la « terreur énergétique » de Moscou, l’Ukraine obtient une nouvelle aide de ses alliés',\n",
       " 'Guerre en Ukraine : la France va fournir rails, ponts et semences',\n",
       " '« L’Afrique a besoin de nourriture et l’Ukraine est prête à la soutenir en ces temps difficiles »',\n",
       " 'Comment Havas, la plus grande agence de communication française, mène une diplomatie officieuse en Ukraine',\n",
       " 'Guerre en Ukraine : la Russie ne prévoit aucune trêve de Noël ou du Nouvel An',\n",
       " 'Guerre en Ukraine : Emmanuel Macron s’est entretenu avec Volodymyr Zelensky avant la conférence pour l’Ukraine',\n",
       " 'Guerre en Ukraine : à Kherson, l’espoir de faire parler les corps',\n",
       " 'Guerre en Ukraine : en Roumanie, les chars Leclerc déployés par la France font leur retour sur le terrain',\n",
       " 'Discours de la Prix Nobel de la paix : « La guerre en Ukraine n’est pas une guerre entre deux Etats, mais entre deux systèmes : l’autoritarisme et la démocratie »',\n",
       " 'Russie : les dernières figures de l’opposition poursuivies pour « discrédit » de l’armée en Ukraine',\n",
       " 'Guerre en Ukraine: Olaf Scholz assume de continuer à parler à Vladimir Poutine, malgré sa « brutalité »',\n",
       " 'Guerre en Ukraine : Olena Zelenska bientôt en visite à Paris pour promouvoir la « résilience » de son pays',\n",
       " 'Guerre en Ukraine: la Russie pourrait envisager une frappe nucléaire préventive pour désarmer un ennemi, déclare Vladimir Poutine',\n",
       " 'Guerre en Ukraine : une journée dans la vie d’une unité ukrainienne embusquée sous les terrils du Donbass',\n",
       " 'Guerre en Ukraine : l’opposant russe Ilia Iachine condamné à huit ans et demi de prison',\n",
       " '« En Europe, la coopération en matière de défense est plus compliquée qu’avant la guerre en Ukraine »',\n",
       " 'Le désespoir des jeunes Africains ayant quitté l’Ukraine : « Je ne demande pas grand-chose, juste le droit d’étudier »',\n",
       " 'En Grèce, la « Ruhr des Balkans » voit sa transition énergétique ralentie par la guerre en Ukraine',\n",
       " 'Guerre en Ukraine : les propos de Macron sur les « garanties de sécurité » à apporter à la Russie utilisés « en dehors de leur contexte », selon l’Elysée',\n",
       " 'En Ukraine, avec le « groupe Kostenko » qui a pris part à la contre-offensive ayant libéré la région de Kherson',\n",
       " 'Guerre en Ukraine : Olaf Scholz estime que la pression internationale a fait reculer Vladimir Poutine sur la question des armes nucléaires',\n",
       " 'En Ukraine, « l’hiver qui s’installe fait dorénavant de la santé une préoccupation prioritaire »']"
      ]
     },
     "execution_count": 57,
     "metadata": {},
     "output_type": "execute_result"
    }
   ],
   "source": [
    "titles"
   ]
  }
 ],
 "metadata": {
  "kernelspec": {
   "display_name": "ukraine",
   "language": "python",
   "name": "python3"
  },
  "language_info": {
   "codemirror_mode": {
    "name": "ipython",
    "version": 3
   },
   "file_extension": ".py",
   "mimetype": "text/x-python",
   "name": "python",
   "nbconvert_exporter": "python",
   "pygments_lexer": "ipython3",
   "version": "3.10.8"
  },
  "orig_nbformat": 4,
  "vscode": {
   "interpreter": {
    "hash": "6c5e3128cd544f4c8224aec553b0af1e22949d2cdce14d50edc48c73b7660091"
   }
  }
 },
 "nbformat": 4,
 "nbformat_minor": 2
}
