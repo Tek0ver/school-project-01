{
 "cells": [
  {
   "cell_type": "code",
   "execution_count": 5,
   "metadata": {},
   "outputs": [],
   "source": [
    "# selenium 4\n",
    "from selenium import webdriver\n",
    "from selenium.webdriver.chrome.service import Service as ChromiumService\n",
    "from webdriver_manager.chrome import ChromeDriverManager\n",
    "from webdriver_manager.core.utils import ChromeType\n",
    "\n",
    "# driver = webdriver.Chrome(service=ChromiumService(ChromeDriverManager(chrome_type=ChromeType.CHROMIUM).install()))\n",
    "\n",
    "from selenium.webdriver.common.by import By\n",
    "from selenium.webdriver.support.ui import WebDriverWait\n",
    "from selenium.webdriver.support import expected_conditions as EC\n",
    "\n",
    "# python\n",
    "import pandas as pd\n",
    "import time"
   ]
  },
  {
   "cell_type": "code",
   "execution_count": 6,
   "metadata": {},
   "outputs": [],
   "source": [
    "# define driver\n",
    "driver = webdriver.Chrome()\n",
    "\n",
    "# open web page\n",
    "url = f\"https://www.lemonde.fr/recherche/?search_keywords=ukraine&start_at=19/12/1994&end_at=15/12/2022&search_sort=date_desc&page=1\"\n",
    "driver.get(url)\n",
    "\n",
    "# accept cookies\n",
    "WebDriverWait(driver, 10).until(EC.element_to_be_clickable((By.XPATH, '//*[@id=\"js-body\"]/div[6]/div/footer/button'))).click()\n",
    "time.sleep(1)"
   ]
  },
  {
   "cell_type": "code",
   "execution_count": 7,
   "metadata": {},
   "outputs": [
    {
     "data": {
      "text/plain": [
       "250"
      ]
     },
     "execution_count": 7,
     "metadata": {},
     "output_type": "execute_result"
    }
   ],
   "source": [
    "# get the number of pages for the search\n",
    "driver.get(url)\n",
    "last_page = int(driver.find_elements(by=By.XPATH, value='/html/body/main/article/section/section[1]/section[2]/section[4]/a[5]')[0].text)\n",
    "last_page"
   ]
  },
  {
   "cell_type": "code",
   "execution_count": 8,
   "metadata": {},
   "outputs": [],
   "source": [
    "# create list of dict of title and date for each article about ukraine\n",
    "articles = []\n",
    "\n",
    "for page in range(1, last_page):\n",
    "    url = f\"https://www.lemonde.fr/recherche/?search_keywords=ukraine&start_at=19/12/1994&end_at=15/12/2022&search_sort=date_desc&page={page}\"\n",
    "    driver.get(url)\n",
    "    driver_title = driver.find_elements(by=By.XPATH, value='/html/body/main/article/section/section[1]/section[2]/section[3]/section/a/h3')\n",
    "    driver_date = driver.find_elements(by=By.XPATH, value='/html/body/main/article/section/section[1]/section[2]/section[3]/section/p/span[1]')\n",
    "    for title, date in zip(driver_title, driver_date):\n",
    "        articles.append({\"title\": title.text, \"date\": date.text})\n",
    "\n",
    "driver.quit()"
   ]
  },
  {
   "cell_type": "code",
   "execution_count": 9,
   "metadata": {},
   "outputs": [
    {
     "data": {
      "text/plain": [
       "9243"
      ]
     },
     "execution_count": 9,
     "metadata": {},
     "output_type": "execute_result"
    }
   ],
   "source": [
    "# number of articles found\n",
    "len(articles)"
   ]
  },
  {
   "cell_type": "code",
   "execution_count": 10,
   "metadata": {},
   "outputs": [],
   "source": [
    "# create dataframe from dict\n",
    "df = pd.DataFrame.from_dict(articles)"
   ]
  },
  {
   "cell_type": "code",
   "execution_count": 11,
   "metadata": {},
   "outputs": [
    {
     "data": {
      "text/html": [
       "<div>\n",
       "<style scoped>\n",
       "    .dataframe tbody tr th:only-of-type {\n",
       "        vertical-align: middle;\n",
       "    }\n",
       "\n",
       "    .dataframe tbody tr th {\n",
       "        vertical-align: top;\n",
       "    }\n",
       "\n",
       "    .dataframe thead th {\n",
       "        text-align: right;\n",
       "    }\n",
       "</style>\n",
       "<table border=\"1\" class=\"dataframe\">\n",
       "  <thead>\n",
       "    <tr style=\"text-align: right;\">\n",
       "      <th></th>\n",
       "      <th>title</th>\n",
       "      <th>date</th>\n",
       "    </tr>\n",
       "  </thead>\n",
       "  <tbody>\n",
       "    <tr>\n",
       "      <th>0</th>\n",
       "      <td>Guerre en Ukraine en direct : les Etats-Unis i...</td>\n",
       "      <td>Publié le 15 décembre 2022 à 18h25, mis à jour...</td>\n",
       "    </tr>\n",
       "    <tr>\n",
       "      <th>1</th>\n",
       "      <td>« Xi Jinping a signé l’arrêt de mort de l’inte...</td>\n",
       "      <td>Publié le 09 décembre 2022 à 14h48, mis à jour...</td>\n",
       "    </tr>\n",
       "    <tr>\n",
       "      <th>2</th>\n",
       "      <td>Crise énergétique : « La France est sur le poi...</td>\n",
       "      <td>Publié le 12 décembre 2022 à 04h00, mis à jour...</td>\n",
       "    </tr>\n",
       "    <tr>\n",
       "      <th>3</th>\n",
       "      <td>« Pour soutenir l’Ukraine, il faut aider les a...</td>\n",
       "      <td>Publié le 12 décembre 2022 à 17h00, mis à jour...</td>\n",
       "    </tr>\n",
       "    <tr>\n",
       "      <th>4</th>\n",
       "      <td>« Nous, députés européens, voulons plus d’Euro...</td>\n",
       "      <td>Publié le 13 décembre 2022 à 05h30</td>\n",
       "    </tr>\n",
       "    <tr>\n",
       "      <th>...</th>\n",
       "      <td>...</td>\n",
       "      <td>...</td>\n",
       "    </tr>\n",
       "    <tr>\n",
       "      <th>9238</th>\n",
       "      <td>Gazprom reprend ses livraisons de gaz à l’Ukraine</td>\n",
       "      <td>Publié le 12 octobre 2015 à 12h47, mis à jour ...</td>\n",
       "    </tr>\n",
       "    <tr>\n",
       "      <th>9239</th>\n",
       "      <td>En Biélorussie, un scrutin pour renouer avec l...</td>\n",
       "      <td>Publié le 10 octobre 2015 à 01h39, mis à jour ...</td>\n",
       "    </tr>\n",
       "    <tr>\n",
       "      <th>9240</th>\n",
       "      <td>Sainte Angela, prix Nobel de la paix ?</td>\n",
       "      <td>Publié le 08 octobre 2015 à 19h14</td>\n",
       "    </tr>\n",
       "    <tr>\n",
       "      <th>9241</th>\n",
       "      <td>Face à la présence russe en Syrie, l’OTAN évoq...</td>\n",
       "      <td>Publié le 08 octobre 2015 à 11h16, mis à jour ...</td>\n",
       "    </tr>\n",
       "    <tr>\n",
       "      <th>9242</th>\n",
       "      <td>La présence russe en Syrie, nouveau défi pour ...</td>\n",
       "      <td>Publié le 08 octobre 2015 à 03h21, mis à jour ...</td>\n",
       "    </tr>\n",
       "  </tbody>\n",
       "</table>\n",
       "<p>9243 rows × 2 columns</p>\n",
       "</div>"
      ],
      "text/plain": [
       "                                                  title  \\\n",
       "0     Guerre en Ukraine en direct : les Etats-Unis i...   \n",
       "1     « Xi Jinping a signé l’arrêt de mort de l’inte...   \n",
       "2     Crise énergétique : « La France est sur le poi...   \n",
       "3     « Pour soutenir l’Ukraine, il faut aider les a...   \n",
       "4     « Nous, députés européens, voulons plus d’Euro...   \n",
       "...                                                 ...   \n",
       "9238  Gazprom reprend ses livraisons de gaz à l’Ukraine   \n",
       "9239  En Biélorussie, un scrutin pour renouer avec l...   \n",
       "9240             Sainte Angela, prix Nobel de la paix ?   \n",
       "9241  Face à la présence russe en Syrie, l’OTAN évoq...   \n",
       "9242  La présence russe en Syrie, nouveau défi pour ...   \n",
       "\n",
       "                                                   date  \n",
       "0     Publié le 15 décembre 2022 à 18h25, mis à jour...  \n",
       "1     Publié le 09 décembre 2022 à 14h48, mis à jour...  \n",
       "2     Publié le 12 décembre 2022 à 04h00, mis à jour...  \n",
       "3     Publié le 12 décembre 2022 à 17h00, mis à jour...  \n",
       "4                    Publié le 13 décembre 2022 à 05h30  \n",
       "...                                                 ...  \n",
       "9238  Publié le 12 octobre 2015 à 12h47, mis à jour ...  \n",
       "9239  Publié le 10 octobre 2015 à 01h39, mis à jour ...  \n",
       "9240                  Publié le 08 octobre 2015 à 19h14  \n",
       "9241  Publié le 08 octobre 2015 à 11h16, mis à jour ...  \n",
       "9242  Publié le 08 octobre 2015 à 03h21, mis à jour ...  \n",
       "\n",
       "[9243 rows x 2 columns]"
      ]
     },
     "execution_count": 11,
     "metadata": {},
     "output_type": "execute_result"
    }
   ],
   "source": [
    "df"
   ]
  },
  {
   "cell_type": "code",
   "execution_count": 14,
   "metadata": {},
   "outputs": [],
   "source": [
    "# create csv\n",
    "df.to_csv('../data/le_monde.csv')"
   ]
  }
 ],
 "metadata": {
  "kernelspec": {
   "display_name": "ukraine",
   "language": "python",
   "name": "python3"
  },
  "language_info": {
   "codemirror_mode": {
    "name": "ipython",
    "version": 3
   },
   "file_extension": ".py",
   "mimetype": "text/x-python",
   "name": "python",
   "nbconvert_exporter": "python",
   "pygments_lexer": "ipython3",
   "version": "3.10.8"
  },
  "orig_nbformat": 4,
  "vscode": {
   "interpreter": {
    "hash": "6c5e3128cd544f4c8224aec553b0af1e22949d2cdce14d50edc48c73b7660091"
   }
  }
 },
 "nbformat": 4,
 "nbformat_minor": 2
}
