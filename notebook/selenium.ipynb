{
 "cells": [
  {
   "cell_type": "code",
   "execution_count": 103,
   "metadata": {},
   "outputs": [],
   "source": [
    "# selenium 4\n",
    "from selenium import webdriver\n",
    "from selenium.webdriver.chrome.service import Service as ChromiumService\n",
    "from webdriver_manager.chrome import ChromeDriverManager\n",
    "from webdriver_manager.core.utils import ChromeType\n",
    "from selenium.webdriver.common.by import By\n",
    "from selenium.webdriver.support.ui import WebDriverWait\n",
    "from selenium.webdriver.support import expected_conditions as EC\n",
    "from selenium.webdriver.common.keys import Keys\n",
    "\n",
    "# driver = webdriver.Chrome(service=ChromiumService(ChromeDriverManager(chrome_type=ChromeType.CHROMIUM).install()))"
   ]
  },
  {
   "cell_type": "code",
   "execution_count": 104,
   "metadata": {},
   "outputs": [],
   "source": [
    "driver = webdriver.Chrome()\n",
    "\n",
    "driver.get(\"https://www.lemonde.fr/\")\n",
    "\n",
    "# accept cookies\n",
    "WebDriverWait(driver, 10).until(EC.element_to_be_clickable((By.XPATH,'//*[@id=\"js-body\"]/div[6]/div/footer/button'))).click()"
   ]
  },
  {
   "cell_type": "code",
   "execution_count": 105,
   "metadata": {},
   "outputs": [],
   "source": [
    "titles = []\n",
    "for page in range(1, 6):\n",
    "    url = f\"https://www.lemonde.fr/recherche/?search_keywords=ukraine&start_at=19/12/1994&end_at=15/12/2022&search_sort=date_desc&page={page}\"\n",
    "    driver.get(url)\n",
    "    for title in driver.find_elements(by=By.CLASS_NAME, value='teaser__title'):\n",
    "        titles.append(title.text)"
   ]
  },
  {
   "cell_type": "code",
   "execution_count": 106,
   "metadata": {},
   "outputs": [
    {
     "data": {
      "text/plain": [
       "148"
      ]
     },
     "execution_count": 106,
     "metadata": {},
     "output_type": "execute_result"
    }
   ],
   "source": [
    "len(titles)"
   ]
  },
  {
   "cell_type": "code",
   "execution_count": 107,
   "metadata": {},
   "outputs": [
    {
     "data": {
      "text/plain": [
       "['Les Européens échouent une nouvelle fois à s’entendre sur le plafonnement du prix du gaz',\n",
       " 'L’Iran alimente le nombre record des journalistes emprisonnés dans le monde',\n",
       " 'Soumise à la « terreur énergétique » de Moscou, l’Ukraine obtient une nouvelle aide de ses alliés',\n",
       " 'Prix du livre d’économie : le fragile retour en grâce de la souveraineté',\n",
       " 'Derrière le Starlink d’Elon Musk, la bataille des constellations de satellites',\n",
       " 'L’économie allemande résiste mieux à la crise que prévu, dopée par la consommation',\n",
       " 'Retraites : la réforme maudite qui hante Emmanuel Macron depuis cinq ans',\n",
       " 'La stratégie de tension d’Albin Kurti, premier ministre du Kosovo',\n",
       " 'Le Danemark se dote d’un gouvernement d’alliance au centre',\n",
       " '« Appelez-moi Cassandre », « L’Internat », « Actrice »... Nos choix de lectures',\n",
       " 'Denis Mukwege, Prix Nobel de la paix : « Nous demandons une mobilisation internationale contre l’agression du Rwanda dans l’est de la RDC »',\n",
       " 'Guerre en Ukraine en direct : les forces antiaériennes ont neutralisé la totalité des drones qui visaient Kiev mercredi',\n",
       " 'Guerre en Ukraine en direct : la Russie ne prévoit aucune trêve de Noël ou du Nouvel An',\n",
       " '« Il nous faut résister, coûte que coûte, à l’expansionnisme turc en pays kurde »',\n",
       " 'Guerre en Ukraine : en Roumanie, les chars Leclerc déployés par la France font leur retour sur le terrain',\n",
       " 'Guerre en Ukraine : Emmanuel Macron s’est entretenu avec Volodymyr Zelensky avant la conférence pour l’Ukraine',\n",
       " 'Guerre en Ukraine : à Kherson, l’espoir de faire parler les corps',\n",
       " 'Kosovo : l’Union européenne et l’OTAN condamnent les attaques contre des policiers',\n",
       " '« L’oppression et le sang imprègnent l’histoire russe »',\n",
       " '« Assassins ! Assassins ! » : la colère des partisans de l’ex-président géorgien Mikheïl Saakachvili, « empoisonné » au mercure et à l’arsenic',\n",
       " 'France et Maroc en demi-finale du Mondial, scandale au Parlement européen... Les cinq infos à retenir du week-end',\n",
       " 'Investissements industriels : en France, un rattrapage encore à concrétiser',\n",
       " 'Investissements industriels : l’Europe court derrière la Chine et les Etats-Unis',\n",
       " '« Le désordre du monde bouleverse la place dévolue à la conscience historique »',\n",
       " 'Guerre en Ukraine, en direct : près de 1 milliard d’euros de dons promis à Kiev à l’issue de la conférence à Paris',\n",
       " 'Au sein de la Nupes, des frictions sur les élections européennes',\n",
       " '« Midi Libre » supprime 45 postes, les salariés entre « abattement » et « colère »',\n",
       " 'Russie : les dernières figures de l’opposition poursuivies pour « discrédit » de l’armée en Ukraine',\n",
       " 'JO 2024 : tous ces « coûts mal anticipés » qui font grimper le budget',\n",
       " 'Guerre en Ukraine: Olaf Scholz assume de continuer à parler à Vladimir Poutine, malgré sa « brutalité »',\n",
       " 'Au Kazakhstan, une ville de 150 000 habitants privée d’électricité depuis une semaine par – 30 °C',\n",
       " 'Yasser Ibrahim, homme-clé de l’empire Assad',\n",
       " 'En exil, la dissidence biélorusse tente de poursuivre son combat démocratique',\n",
       " 'Biathlon : la Française Julia Simon remporte la poursuite à Hochfilzen, en Autriche',\n",
       " 'Dans les poches : Marie NDiaye, Jean-Claude Grumberg, Nicole Krauss...',\n",
       " 'Après la fin de « Barkhane », les « paras » du 8ᵉ RPIMa changent progressivement de guerre',\n",
       " 'Discours de la Prix Nobel de la paix : « La guerre en Ukraine n’est pas une guerre entre deux Etats, mais entre deux systèmes : l’autoritarisme et la démocratie »',\n",
       " 'Moyen-Orient : « Il apparaît nécessaire d’imposer le Parti des travailleurs du Kurdistan à la table des négociations »',\n",
       " 'Guerre en Ukraine, en direct : l’Union européenne octroie une aide financière de 18 milliards d’euros à l’Ukraine pour 2023',\n",
       " 'Guerre en Ukraine, en direct : l’UE envisage de nouvelles sanctions contre l’Iran, accusée de fournir des drones à la Russie',\n",
       " 'Oleksii Reznikov, ministre de la défense ukrainien : « Cette guerre est une guerre d’alliances et de ressources »',\n",
       " '« Bizarrement, la semaine est calme, je n’ai pas entendu les sirènes depuis des jours : à cause des coupures, elles ne sonnent pas »',\n",
       " 'La fugue des musiciennes ukrainiennes, réfugiées en France pour continuer à exercer leur art',\n",
       " 'Guerre en Ukraine : Olena Zelenska bientôt en visite à Paris pour promouvoir la « résilience » de son pays',\n",
       " 'Dans un second « Livre noir des refoulements », des ONG alertent sur les violences contre les migrants aux frontières de l’UE',\n",
       " 'Le désespoir des jeunes Africains ayant quitté l’Ukraine : « Je ne demande pas grand-chose, juste le droit d’étudier »',\n",
       " 'Allemagne : la mue incomplète du chancelier Olaf Scholz',\n",
       " 'Guerre en Ukraine: la Russie pourrait envisager une frappe nucléaire préventive pour désarmer un ennemi, déclare Vladimir Poutine',\n",
       " 'Les Européens plus divisés que jamais sur la question migratoire',\n",
       " 'Les déclarations d’Emmanuel Macron sur la Russie ulcèrent Kiev et ses alliés',\n",
       " 'Le metteur en scène François Tanguy est mort',\n",
       " 'Guerre en Ukraine : une journée dans la vie d’une unité ukrainienne embusquée sous les terrils du Donbass',\n",
       " 'En Ukraine, avec le « groupe Kostenko » qui a pris part à la contre-offensive ayant libéré la région de Kherson',\n",
       " 'Guerre en Ukraine : l’opposant russe Ilia Iachine condamné à huit ans et demi de prison',\n",
       " 'L’ancien magistrat Renaud van Ruymbeke « dans les coulisses des paradis fiscaux »',\n",
       " 'TotalEnergies se met en retrait du groupe gazier russe Novatek',\n",
       " 'En Grèce, la « Ruhr des Balkans » voit sa transition énergétique ralentie par la guerre en Ukraine',\n",
       " 'L’hiver « comme une arme de guerre », Vladimir Poutine va continuer de viser les infrastructures énergétiques ukrainiennes',\n",
       " 'Brittney Griner contre un marchand d’armes : échange déséquilibré de prisonniers entre les Etats-Unis et la Russie',\n",
       " '« En Europe, la coopération en matière de défense est plus compliquée qu’avant la guerre en Ukraine »',\n",
       " 'Le rôle ambigu de la France sur les objectifs européens de réduction des pesticides',\n",
       " 'Le CIO envisage un retour des Russes et des Biélorusses dans les compétitions en Asie',\n",
       " 'Guerre en Ukraine : les propos de Macron sur les « garanties de sécurité » à apporter à la Russie utilisés « en dehors de leur contexte », selon l’Elysée',\n",
       " '« Avec la reconnaissance du prix Nobel de la paix, l’ONG russe Memorial est érigée en instance de résistance »',\n",
       " 'Diana Filippova : « Prêtons une oreille attentive et bienveillante à ces nouveaux dissidents qui travaillent à une autre Russie »',\n",
       " 'TotalEnergies coupe les ponts avec son partenaire russe, le gazier Novatek',\n",
       " 'A Kherson, Ukrainiens et Russes se disputent la « zone grise » du Dniepr',\n",
       " 'Guerre en Ukraine, en direct : bombardements mortels dans la région de Kherson, Odessa subit encore des coupures de courant',\n",
       " 'En Ukraine, « l’hiver qui s’installe fait dorénavant de la santé une préoccupation prioritaire »',\n",
       " 'Football : le feuilleton du rachat de l’Olympique lyonnais par l’Américain John Textor touche à sa fin',\n",
       " 'La justice française condamne le fabricant de pesticides Bayer à indemniser l’agriculteur Paul François à hauteur de 11 135 euros',\n",
       " 'La basketteuse américaine Brittney Griner libérée dans le cadre d’un échange de prisonniers avec la Russie',\n",
       " 'Lithium, terres rares : le réveil tardif des mines en Europe',\n",
       " 'Crise énergétique : la Belgique craint pour son approvisionnement électrique',\n",
       " 'Guerre en Ukraine : Olaf Scholz estime que la pression internationale a fait reculer Vladimir Poutine sur la question des armes nucléaires',\n",
       " 'Guerre en Ukraine, en direct : la ville d’Odessa privée d’électricité après une attaque russe de drones explosifs',\n",
       " 'Guerre en Ukraine, en direct : Poutine dément de nouveau recevoir l’aide de l’Iran après les accusations de Washington',\n",
       " 'En Russie, le retour triomphal de la Moskvitch... sous forte influence chinoise',\n",
       " 'La Lettonie prive de licence la chaîne russe d’opposition Dojd',\n",
       " '« En Ukraine, la loi martiale a suspendu des pans entiers du droit du travail et de nouvelles lois ont vocation à durer au-delà du conflit »',\n",
       " 'Assassinat de Shireen Abu Akleh : Al-Jazira saisit la CPI',\n",
       " 'A Kherson, dans le sud de l’Ukraine, les prémices d’un nouvel exode de civils',\n",
       " '« Dans un Proche-Orient couturé de fractures, l’heure est aux désalignements »',\n",
       " 'L’Ukraine tente d’entraver les frappes russes sur les infrastructures civiles',\n",
       " 'Volodymyr Zelensky désigné « personnalité de l’année » par « Time » qui salue également « l’esprit de l’Ukraine »',\n",
       " 'TotalEnergies attaqué de toutes parts en justice pour son rôle dans la crise climatique',\n",
       " 'Retour aux bénéfices annoncé en 2023 pour les compagnies aériennes',\n",
       " 'Le Comité olympique veut « explorer des moyens » de réintégrer les athlètes russes et biélorusses',\n",
       " 'JO Paris 2024 : trois mois de retard pour la livraison de l’Arena',\n",
       " 'Un gouvernement resserré, de nombreux pays en rêvent, la Suisse l’a fait',\n",
       " 'En Ukraine, la justice de Kharkiv exhibe un « cimetière des missiles » pour documenter les attaques russes contre des civils',\n",
       " 'Guerre en Ukraine, en direct : la Russie pourrait envisager une frappe préventive pour désarmer un ennemi, déclare Poutine',\n",
       " 'Pour décarboner l’industrie, « il faut mettre en place un cadre incitatif sans créer un déficit de compétitivité »',\n",
       " 'Des frappes mystérieuses de drones provoquent la mort de trois soldats dans deux bases aériennes de Russie',\n",
       " 'La guerre en Ukraine force l’UE à resserrer ses liens avec les Balkans',\n",
       " '« L’industrie de défense est à son tour rattrapée par les difficultés logistiques »',\n",
       " 'Guerre en Ukraine : les Etats-Unis assurent ne pas encourager les frappes ukrainiennes en Russie',\n",
       " 'Embargo sur le pétrole russe : les sanctions contre la Russie entre ténacité et pragmatisme',\n",
       " 'Des théâtres aux réseaux de tramway, la Hongrie à l’heure des fermetures et des pénuries',\n",
       " 'Economie : les Etats-Unis, plus attractifs que jamais, inquiètent l’Union européenne',\n",
       " 'En Europe, la crise du gaz devrait durer au moins jusqu’en 2027',\n",
       " 'Fonds européens : l’Union divisée face au chantage de Budapest',\n",
       " 'L’Ukraine a attaqué des bases russes à des centaines de kilomètres de ses frontières',\n",
       " 'Guerre en Ukraine, en direct : Vladimir Poutine affirme que la Russie va continuer de viser les infrastructures énergétiques ukrainiennes',\n",
       " 'Les meilleurs livres de 2022 : la sélection du « Monde des livres »',\n",
       " 'Guerre en Ukraine : « Les Etats-Unis vont capitaliser sur leur engagement et seront sans doute bien positionnés pour l’après »',\n",
       " 'L’Allemagne, nouvelle destination rêvée des jeunes Tunisiens',\n",
       " 'Les sanctions européennes sur le pétrole russe embarrassent les armateurs grecs',\n",
       " 'L’Union européenne active l’embargo sur le pétrole brut de la Russie',\n",
       " 'Guerre en Ukraine : coupures d’électricité en Ukraine après de nouveaux bombardements russes',\n",
       " 'Dans la ville de Kherson, la torture érigée en système durant l’occupation russe',\n",
       " 'La guerre de l’ombre de l’Ukraine pour neutraliser la mafia prorusse',\n",
       " 'En Géorgie, l’ex-président Mikheïl Saakachvili « empoisonné » en prison, selon des médecins',\n",
       " 'A Gizeh, l’homme Dior entre futur et passé',\n",
       " 'Que sont les « Twitter Files », ces informations censément compromettantes pour Joe Biden ?',\n",
       " '« Depuis le premier quinquennat d’Emmanuel Macron, les plans s’enchaînent sans pour autant freiner l’idée du délitement »',\n",
       " 'En Turquie, Erdogan, le diplomate acrobate, remis en selle par la guerre en Ukraine',\n",
       " 'Guerre en Ukraine, en direct : Olaf Scholz se dit prêt à « discuter avec la Russie du contrôle des armements en Europe » si elle se retire d’Ukraine',\n",
       " 'Guerre en Ukraine en direct : Vladimir Poutine annonce que 150 000 réservistes ont été mobilisés et reconnaît que le conflit sera « un long processus »',\n",
       " 'Comment être parent aujourd’hui ? La psychanalyste Claude Halmos répond',\n",
       " 'Guerre en Ukraine : la vie à Kiev, plongée dans l’obscurité et le froid',\n",
       " 'Guerre en Ukraine : des victimes de crimes sexuels incitent à sortir du silence',\n",
       " 'Guerre en Ukraine : « il n’y a pas de solution diplomatique avec le régime de Poutine tant qu’il est encore là », selon une responsable de l’ONG Memorial',\n",
       " 'En Moselle, une guerre des morts entre la Russie et l’Ukraine',\n",
       " 'L’OPEP et ses alliés maintiennent leurs quotas de production de pétrole malgré les sanctions visant le brut russe',\n",
       " 'Les prix de l’énergie, un terreau fertile pour les arnaques en ligne',\n",
       " 'Le projet de loi sur les énergies renouvelables à la recherche d’une majorité à l’Assemblée',\n",
       " 'Guerre en Ukraine, en direct : « Les mesures nécessaires seront prises », affirme le Kremlin après les raids de drones contre des bases russes',\n",
       " 'Le marché du bio ralentit en raison de l’inflation et des labels trompeurs',\n",
       " 'EDF a reçu une livraison d’uranium de retraitement enrichi en provenance de Russie',\n",
       " 'A La Nouvelle-Orléans, Emmanuel Macron encourage la francophonie et rencontre Elon Musk',\n",
       " 'L’autoroute à 110 km/h, un minimum pour le climat',\n",
       " 'Guerre en Ukraine : les bombardements de la lâcheté',\n",
       " 'Des « paquets ensanglantés » envoyés à des ambassades et consulats ukrainiens',\n",
       " 'Les énergies renouvelables en France, des retards, des espoirs et un pactole',\n",
       " 'Guerre en Ukraine : Volodymyr Zelensky juge sévèrement le plafonnement du prix de baril de pétrole russe à 60 dollars par les pays occidentaux',\n",
       " '« Les pellets, c’est la fausse bonne idée, maintenant il faut abattre des arbres pour en produire et ça coûte un bras »',\n",
       " 'Coupures d’électricité cet hiver : de la « responsabilité, mais pas de panique », assure Emmanuel Macron',\n",
       " 'En Iran, quatre personnes ont été exécutées pour « coopération » avec Israël',\n",
       " 'Guerre en Ukraine en direct : la Russie confirme des frappes ukrainiennes sur son territoire',\n",
       " 'Dans le sud de l’Ukraine, les agriculteurs dépriment ou prennent les armes',\n",
       " 'Invasion de l’Ukraine en cartes : l’évolution des combats semaine après semaine',\n",
       " 'Les cartes de la guerre en Ukraine, depuis l’invasion russe de février',\n",
       " 'Judith Prigent, dénicheuse de vêtements vintage',\n",
       " 'Une délégation ukrainienne en visite à Paris évoque un « écocide » commis par les Russes',\n",
       " 'La foire Art Basel Miami Beach a redessiné le paysage culturel de la ville en vingt ans',\n",
       " 'A Kherson bombardée : « Je resterai jusqu’au bout, même si je dois crever de froid »',\n",
       " 'Le gouvernement sur une ligne de crête face au risque de coupures d’électricité']"
      ]
     },
     "execution_count": 107,
     "metadata": {},
     "output_type": "execute_result"
    }
   ],
   "source": [
    "titles"
   ]
  }
 ],
 "metadata": {
  "kernelspec": {
   "display_name": "ukraine",
   "language": "python",
   "name": "python3"
  },
  "language_info": {
   "codemirror_mode": {
    "name": "ipython",
    "version": 3
   },
   "file_extension": ".py",
   "mimetype": "text/x-python",
   "name": "python",
   "nbconvert_exporter": "python",
   "pygments_lexer": "ipython3",
   "version": "3.10.8"
  },
  "orig_nbformat": 4,
  "vscode": {
   "interpreter": {
    "hash": "6c5e3128cd544f4c8224aec553b0af1e22949d2cdce14d50edc48c73b7660091"
   }
  }
 },
 "nbformat": 4,
 "nbformat_minor": 2
}
