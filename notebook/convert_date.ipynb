{
 "cells": [
  {
   "cell_type": "code",
   "execution_count": 1,
   "metadata": {},
   "outputs": [],
   "source": [
    "import pandas as pd"
   ]
  },
  {
   "cell_type": "code",
   "execution_count": 4,
   "metadata": {},
   "outputs": [],
   "source": [
    "df = pd.read_csv(\"../data/le_monde.csv\")"
   ]
  },
  {
   "cell_type": "code",
   "execution_count": 5,
   "metadata": {},
   "outputs": [
    {
     "data": {
      "text/html": [
       "<div>\n",
       "<style scoped>\n",
       "    .dataframe tbody tr th:only-of-type {\n",
       "        vertical-align: middle;\n",
       "    }\n",
       "\n",
       "    .dataframe tbody tr th {\n",
       "        vertical-align: top;\n",
       "    }\n",
       "\n",
       "    .dataframe thead th {\n",
       "        text-align: right;\n",
       "    }\n",
       "</style>\n",
       "<table border=\"1\" class=\"dataframe\">\n",
       "  <thead>\n",
       "    <tr style=\"text-align: right;\">\n",
       "      <th></th>\n",
       "      <th>title</th>\n",
       "      <th>date</th>\n",
       "    </tr>\n",
       "  </thead>\n",
       "  <tbody>\n",
       "    <tr>\n",
       "      <th>0</th>\n",
       "      <td>Guerre en Ukraine, en direct : la Russie affir...</td>\n",
       "      <td>NaN</td>\n",
       "    </tr>\n",
       "    <tr>\n",
       "      <th>1</th>\n",
       "      <td>Guerre en Ukraine, en direct : l’OTAN et l’Uni...</td>\n",
       "      <td>2023-10-01 06:33:00</td>\n",
       "    </tr>\n",
       "    <tr>\n",
       "      <th>2</th>\n",
       "      <td>Invasion de l’Ukraine en cartes : l’évolution ...</td>\n",
       "      <td>2022-11-05 10:12:00</td>\n",
       "    </tr>\n",
       "    <tr>\n",
       "      <th>3</th>\n",
       "      <td>Guerre en Ukraine : la Russie ne contrôle plus...</td>\n",
       "      <td>2023-05-01 18:08:00</td>\n",
       "    </tr>\n",
       "    <tr>\n",
       "      <th>4</th>\n",
       "      <td>Vladimir Poutine ordonne un cessez-le-feu en U...</td>\n",
       "      <td>2023-05-01 19:33:00</td>\n",
       "    </tr>\n",
       "  </tbody>\n",
       "</table>\n",
       "</div>"
      ],
      "text/plain": [
       "                                               title                 date\n",
       "0  Guerre en Ukraine, en direct : la Russie affir...                  NaN\n",
       "1  Guerre en Ukraine, en direct : l’OTAN et l’Uni...  2023-10-01 06:33:00\n",
       "2  Invasion de l’Ukraine en cartes : l’évolution ...  2022-11-05 10:12:00\n",
       "3  Guerre en Ukraine : la Russie ne contrôle plus...  2023-05-01 18:08:00\n",
       "4  Vladimir Poutine ordonne un cessez-le-feu en U...  2023-05-01 19:33:00"
      ]
     },
     "execution_count": 5,
     "metadata": {},
     "output_type": "execute_result"
    }
   ],
   "source": [
    "df.head()"
   ]
  },
  {
   "cell_type": "code",
   "execution_count": 129,
   "metadata": {},
   "outputs": [],
   "source": [
    "df[\"date\"] = df[\"date\"].str.findall(r\"\\d{2} [a-zéèû]* \\d{4} à \\d{2}h\\d{2}\").str[0]"
   ]
  },
  {
   "cell_type": "code",
   "execution_count": 130,
   "metadata": {},
   "outputs": [],
   "source": [
    "df[\"date\"] = df[\"date\"].str.replace(\"à \", \"\").str.replace(\"h\", \" \")"
   ]
  },
  {
   "cell_type": "code",
   "execution_count": 131,
   "metadata": {},
   "outputs": [],
   "source": [
    "df[['day', 'month', 'year', 'hour', 'minute']] = df['date'].str.split(' ', expand=True)"
   ]
  },
  {
   "cell_type": "code",
   "execution_count": 132,
   "metadata": {},
   "outputs": [],
   "source": [
    "month_dict = {\n",
    "    'janvier': '01',\n",
    "    'février': '02',\n",
    "    'mars': '03',\n",
    "    'avril': '04',\n",
    "    'mai': '05',\n",
    "    'juin': '06',\n",
    "    'juillet': '07',\n",
    "    'août': '08',\n",
    "    'septembre': '09',\n",
    "    'octobre': '10',\n",
    "    'novembre': '11',\n",
    "    'décembre': '12'\n",
    "}"
   ]
  },
  {
   "cell_type": "code",
   "execution_count": 133,
   "metadata": {},
   "outputs": [],
   "source": [
    "df['month'] = df[\"month\"].replace(month_dict)\n",
    "df['date'] = df['day'] + '/' + df['month'] + '/' + df['year'] + ' ' + df[\"hour\"] + ':' + df[\"minute\"]\n",
    "df['date'] = pd.to_datetime(df['date'])\n",
    "df.drop(columns = ['day', 'month', 'year', 'hour', 'minute'], inplace=True)"
   ]
  },
  {
   "cell_type": "code",
   "execution_count": 136,
   "metadata": {},
   "outputs": [
    {
     "data": {
      "text/html": [
       "<div>\n",
       "<style scoped>\n",
       "    .dataframe tbody tr th:only-of-type {\n",
       "        vertical-align: middle;\n",
       "    }\n",
       "\n",
       "    .dataframe tbody tr th {\n",
       "        vertical-align: top;\n",
       "    }\n",
       "\n",
       "    .dataframe thead th {\n",
       "        text-align: right;\n",
       "    }\n",
       "</style>\n",
       "<table border=\"1\" class=\"dataframe\">\n",
       "  <thead>\n",
       "    <tr style=\"text-align: right;\">\n",
       "      <th></th>\n",
       "      <th>Unnamed: 0</th>\n",
       "      <th>title</th>\n",
       "      <th>date</th>\n",
       "    </tr>\n",
       "  </thead>\n",
       "  <tbody>\n",
       "    <tr>\n",
       "      <th>0</th>\n",
       "      <td>0</td>\n",
       "      <td>Guerre en Ukraine en direct : les Etats-Unis i...</td>\n",
       "      <td>2022-12-15 18:25:00</td>\n",
       "    </tr>\n",
       "    <tr>\n",
       "      <th>1</th>\n",
       "      <td>1</td>\n",
       "      <td>« Xi Jinping a signé l’arrêt de mort de l’inte...</td>\n",
       "      <td>2022-09-12 14:48:00</td>\n",
       "    </tr>\n",
       "    <tr>\n",
       "      <th>2</th>\n",
       "      <td>2</td>\n",
       "      <td>Crise énergétique : « La France est sur le poi...</td>\n",
       "      <td>2022-12-12 04:00:00</td>\n",
       "    </tr>\n",
       "    <tr>\n",
       "      <th>3</th>\n",
       "      <td>3</td>\n",
       "      <td>« Pour soutenir l’Ukraine, il faut aider les a...</td>\n",
       "      <td>2022-12-12 17:00:00</td>\n",
       "    </tr>\n",
       "    <tr>\n",
       "      <th>4</th>\n",
       "      <td>4</td>\n",
       "      <td>« Nous, députés européens, voulons plus d’Euro...</td>\n",
       "      <td>2022-12-13 05:30:00</td>\n",
       "    </tr>\n",
       "    <tr>\n",
       "      <th>...</th>\n",
       "      <td>...</td>\n",
       "      <td>...</td>\n",
       "      <td>...</td>\n",
       "    </tr>\n",
       "    <tr>\n",
       "      <th>9238</th>\n",
       "      <td>9238</td>\n",
       "      <td>Gazprom reprend ses livraisons de gaz à l’Ukraine</td>\n",
       "      <td>2015-12-10 12:47:00</td>\n",
       "    </tr>\n",
       "    <tr>\n",
       "      <th>9239</th>\n",
       "      <td>9239</td>\n",
       "      <td>En Biélorussie, un scrutin pour renouer avec l...</td>\n",
       "      <td>2015-10-10 01:39:00</td>\n",
       "    </tr>\n",
       "    <tr>\n",
       "      <th>9240</th>\n",
       "      <td>9240</td>\n",
       "      <td>Sainte Angela, prix Nobel de la paix ?</td>\n",
       "      <td>2015-08-10 19:14:00</td>\n",
       "    </tr>\n",
       "    <tr>\n",
       "      <th>9241</th>\n",
       "      <td>9241</td>\n",
       "      <td>Face à la présence russe en Syrie, l’OTAN évoq...</td>\n",
       "      <td>2015-08-10 11:16:00</td>\n",
       "    </tr>\n",
       "    <tr>\n",
       "      <th>9242</th>\n",
       "      <td>9242</td>\n",
       "      <td>La présence russe en Syrie, nouveau défi pour ...</td>\n",
       "      <td>2015-08-10 03:21:00</td>\n",
       "    </tr>\n",
       "  </tbody>\n",
       "</table>\n",
       "<p>9243 rows × 3 columns</p>\n",
       "</div>"
      ],
      "text/plain": [
       "      Unnamed: 0                                              title  \\\n",
       "0              0  Guerre en Ukraine en direct : les Etats-Unis i...   \n",
       "1              1  « Xi Jinping a signé l’arrêt de mort de l’inte...   \n",
       "2              2  Crise énergétique : « La France est sur le poi...   \n",
       "3              3  « Pour soutenir l’Ukraine, il faut aider les a...   \n",
       "4              4  « Nous, députés européens, voulons plus d’Euro...   \n",
       "...          ...                                                ...   \n",
       "9238        9238  Gazprom reprend ses livraisons de gaz à l’Ukraine   \n",
       "9239        9239  En Biélorussie, un scrutin pour renouer avec l...   \n",
       "9240        9240             Sainte Angela, prix Nobel de la paix ?   \n",
       "9241        9241  Face à la présence russe en Syrie, l’OTAN évoq...   \n",
       "9242        9242  La présence russe en Syrie, nouveau défi pour ...   \n",
       "\n",
       "                    date  \n",
       "0    2022-12-15 18:25:00  \n",
       "1    2022-09-12 14:48:00  \n",
       "2    2022-12-12 04:00:00  \n",
       "3    2022-12-12 17:00:00  \n",
       "4    2022-12-13 05:30:00  \n",
       "...                  ...  \n",
       "9238 2015-12-10 12:47:00  \n",
       "9239 2015-10-10 01:39:00  \n",
       "9240 2015-08-10 19:14:00  \n",
       "9241 2015-08-10 11:16:00  \n",
       "9242 2015-08-10 03:21:00  \n",
       "\n",
       "[9243 rows x 3 columns]"
      ]
     },
     "execution_count": 136,
     "metadata": {},
     "output_type": "execute_result"
    }
   ],
   "source": [
    "df"
   ]
  }
 ],
 "metadata": {
  "kernelspec": {
   "display_name": "vinci01",
   "language": "python",
   "name": "python3"
  },
  "language_info": {
   "codemirror_mode": {
    "name": "ipython",
    "version": 3
   },
   "file_extension": ".py",
   "mimetype": "text/x-python",
   "name": "python",
   "nbconvert_exporter": "python",
   "pygments_lexer": "ipython3",
   "version": "3.10.9"
  },
  "orig_nbformat": 4,
  "vscode": {
   "interpreter": {
    "hash": "cccebd68a798ce923b1ba830d3f75651cf9efd9d09b6d8dd4f8b1d32860ad5a1"
   }
  }
 },
 "nbformat": 4,
 "nbformat_minor": 2
}
